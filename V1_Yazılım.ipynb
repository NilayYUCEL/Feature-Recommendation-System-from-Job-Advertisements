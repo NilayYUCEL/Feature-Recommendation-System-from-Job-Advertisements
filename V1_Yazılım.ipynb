{
 "cells": [
  {
   "cell_type": "code",
   "execution_count": 1,
   "id": "f441eeff-b9ee-4ae2-8aec-6f1692dcf64b",
   "metadata": {
    "tags": []
   },
   "outputs": [],
   "source": [
    "import pandas as pd\n",
    "import re\n",
    "import os\n",
    "import warnings\n",
    "warnings.filterwarnings('ignore')\n",
    "\n",
    "#pd.set_option('display.max_rows', 500)"
   ]
  },
  {
   "cell_type": "markdown",
   "id": "11d179db-1571-4499-8bc7-37e6bf0986d4",
   "metadata": {
    "tags": []
   },
   "source": [
    "# DATA REVIEW / STEP 1"
   ]
  },
  {
   "cell_type": "markdown",
   "id": "67e41950-3ad5-4a3b-bcba-f5393a2ff521",
   "metadata": {
    "tags": []
   },
   "source": [
    "Veri Seti okunuyor ve ilgili alandaki işler farklı bir excel dosyasına kayıt ediliyor."
   ]
  },
  {
   "cell_type": "code",
   "execution_count": 2,
   "id": "725678db-98d5-4fab-81eb-e07b891f6bc8",
   "metadata": {
    "tags": []
   },
   "outputs": [],
   "source": [
    "raw_data = pd.read_excel(os.path.abspath('..')+\"/Data/110K_IlanDatasi_23012020_Canli.xlsx\")"
   ]
  },
  {
   "cell_type": "code",
   "execution_count": 3,
   "id": "1d797af6-5e9a-41e8-97a0-8ab4a6c4d72e",
   "metadata": {},
   "outputs": [
    {
     "data": {
      "text/html": [
       "<div>\n",
       "<style scoped>\n",
       "    .dataframe tbody tr th:only-of-type {\n",
       "        vertical-align: middle;\n",
       "    }\n",
       "\n",
       "    .dataframe tbody tr th {\n",
       "        vertical-align: top;\n",
       "    }\n",
       "\n",
       "    .dataframe thead th {\n",
       "        text-align: right;\n",
       "    }\n",
       "</style>\n",
       "<table border=\"1\" class=\"dataframe\">\n",
       "  <thead>\n",
       "    <tr style=\"text-align: right;\">\n",
       "      <th></th>\n",
       "      <th>Unnamed: 0</th>\n",
       "      <th>jobrefno</th>\n",
       "      <th>EgitimDurumu</th>\n",
       "      <th>Tecrube</th>\n",
       "      <th>maxTecrube</th>\n",
       "      <th>iller</th>\n",
       "      <th>PozisyonAdi</th>\n",
       "      <th>metin</th>\n",
       "    </tr>\n",
       "  </thead>\n",
       "  <tbody>\n",
       "    <tr>\n",
       "      <th>0</th>\n",
       "      <td>0</td>\n",
       "      <td>2451579</td>\n",
       "      <td>YM,UO,UM,MO,MM,DO,DM</td>\n",
       "      <td>0</td>\n",
       "      <td>10</td>\n",
       "      <td>Eskişehir</td>\n",
       "      <td>Genel Başvuru</td>\n",
       "      <td>&lt;p&gt;Genel başvuru&amp;nbsp;amaçlı bu ilan firmamızd...</td>\n",
       "    </tr>\n",
       "    <tr>\n",
       "      <th>1</th>\n",
       "      <td>1</td>\n",
       "      <td>2451577</td>\n",
       "      <td>KM,LM,YM,UM,MM</td>\n",
       "      <td>99</td>\n",
       "      <td>99</td>\n",
       "      <td>İstanbul(Avr.)</td>\n",
       "      <td>Uluslararası Hasta İlişkileri Uzmanı</td>\n",
       "      <td>&lt;ul&gt;&lt;li&gt;&lt;u&gt;&lt;strong&gt;Çok iyi düzeyde&amp;nbsp;İTALYA...</td>\n",
       "    </tr>\n",
       "    <tr>\n",
       "      <th>2</th>\n",
       "      <td>2</td>\n",
       "      <td>2451576</td>\n",
       "      <td>KM</td>\n",
       "      <td>99</td>\n",
       "      <td>99</td>\n",
       "      <td>İstanbul(Avr.)</td>\n",
       "      <td>Dilme Makinesi Operatörü</td>\n",
       "      <td>&lt;p&gt;DİSİPLİNLİ TEMİZLİĞE DÜZENE ÖNEM VEREN TECR...</td>\n",
       "    </tr>\n",
       "    <tr>\n",
       "      <th>3</th>\n",
       "      <td>3</td>\n",
       "      <td>2451575</td>\n",
       "      <td>LM,YM,UM,MM</td>\n",
       "      <td>99</td>\n",
       "      <td>99</td>\n",
       "      <td>İstanbul(Avr.)</td>\n",
       "      <td>Uluslararası Hasta İlişkileri Uzmanı</td>\n",
       "      <td>&lt;ul&gt;&lt;li&gt;&lt;u&gt;&lt;strong&gt;Çok iyi düzeyde&amp;nbsp;ALMANC...</td>\n",
       "    </tr>\n",
       "    <tr>\n",
       "      <th>4</th>\n",
       "      <td>4</td>\n",
       "      <td>2451574</td>\n",
       "      <td>LM</td>\n",
       "      <td>99</td>\n",
       "      <td>99</td>\n",
       "      <td>İstanbul(Avr.)</td>\n",
       "      <td>Modelist</td>\n",
       "      <td>&lt;p&gt;&lt;/p&gt;&lt;li&gt;İhracat firmalarında dokuma ve örme...</td>\n",
       "    </tr>\n",
       "  </tbody>\n",
       "</table>\n",
       "</div>"
      ],
      "text/plain": [
       "   Unnamed: 0  jobrefno          EgitimDurumu  Tecrube  maxTecrube  \\\n",
       "0           0   2451579  YM,UO,UM,MO,MM,DO,DM        0          10   \n",
       "1           1   2451577        KM,LM,YM,UM,MM       99          99   \n",
       "2           2   2451576                    KM       99          99   \n",
       "3           3   2451575           LM,YM,UM,MM       99          99   \n",
       "4           4   2451574                    LM       99          99   \n",
       "\n",
       "            iller                           PozisyonAdi  \\\n",
       "0       Eskişehir                         Genel Başvuru   \n",
       "1  İstanbul(Avr.)  Uluslararası Hasta İlişkileri Uzmanı   \n",
       "2  İstanbul(Avr.)              Dilme Makinesi Operatörü   \n",
       "3  İstanbul(Avr.)  Uluslararası Hasta İlişkileri Uzmanı   \n",
       "4  İstanbul(Avr.)                            Modelist     \n",
       "\n",
       "                                               metin  \n",
       "0  <p>Genel başvuru&nbsp;amaçlı bu ilan firmamızd...  \n",
       "1  <ul><li><u><strong>Çok iyi düzeyde&nbsp;İTALYA...  \n",
       "2  <p>DİSİPLİNLİ TEMİZLİĞE DÜZENE ÖNEM VEREN TECR...  \n",
       "3  <ul><li><u><strong>Çok iyi düzeyde&nbsp;ALMANC...  \n",
       "4  <p></p><li>İhracat firmalarında dokuma ve örme...  "
      ]
     },
     "execution_count": 3,
     "metadata": {},
     "output_type": "execute_result"
    }
   ],
   "source": [
    "raw_data.head()"
   ]
  },
  {
   "cell_type": "markdown",
   "id": "4504617d-e804-4086-9cd5-273c2872ee68",
   "metadata": {
    "tags": []
   },
   "source": [
    "## GET TEXT AND POSITION"
   ]
  },
  {
   "cell_type": "code",
   "execution_count": 4,
   "id": "ca2c1a6c-eb98-49de-8482-83df5782d577",
   "metadata": {},
   "outputs": [],
   "source": [
    "Jobs_positions_text_df= raw_data[[\"PozisyonAdi\",\"metin\"]]"
   ]
  },
  {
   "cell_type": "code",
   "execution_count": 5,
   "id": "de334c3a-f528-475e-a66e-183f80eccf12",
   "metadata": {},
   "outputs": [
    {
     "data": {
      "text/html": [
       "<div>\n",
       "<style scoped>\n",
       "    .dataframe tbody tr th:only-of-type {\n",
       "        vertical-align: middle;\n",
       "    }\n",
       "\n",
       "    .dataframe tbody tr th {\n",
       "        vertical-align: top;\n",
       "    }\n",
       "\n",
       "    .dataframe thead th {\n",
       "        text-align: right;\n",
       "    }\n",
       "</style>\n",
       "<table border=\"1\" class=\"dataframe\">\n",
       "  <thead>\n",
       "    <tr style=\"text-align: right;\">\n",
       "      <th></th>\n",
       "      <th>PozisyonAdi</th>\n",
       "      <th>metin</th>\n",
       "    </tr>\n",
       "  </thead>\n",
       "  <tbody>\n",
       "    <tr>\n",
       "      <th>0</th>\n",
       "      <td>Genel Başvuru</td>\n",
       "      <td>&lt;p&gt;Genel başvuru&amp;nbsp;amaçlı bu ilan firmamızd...</td>\n",
       "    </tr>\n",
       "    <tr>\n",
       "      <th>1</th>\n",
       "      <td>Uluslararası Hasta İlişkileri Uzmanı</td>\n",
       "      <td>&lt;ul&gt;&lt;li&gt;&lt;u&gt;&lt;strong&gt;Çok iyi düzeyde&amp;nbsp;İTALYA...</td>\n",
       "    </tr>\n",
       "    <tr>\n",
       "      <th>2</th>\n",
       "      <td>Dilme Makinesi Operatörü</td>\n",
       "      <td>&lt;p&gt;DİSİPLİNLİ TEMİZLİĞE DÜZENE ÖNEM VEREN TECR...</td>\n",
       "    </tr>\n",
       "    <tr>\n",
       "      <th>3</th>\n",
       "      <td>Uluslararası Hasta İlişkileri Uzmanı</td>\n",
       "      <td>&lt;ul&gt;&lt;li&gt;&lt;u&gt;&lt;strong&gt;Çok iyi düzeyde&amp;nbsp;ALMANC...</td>\n",
       "    </tr>\n",
       "    <tr>\n",
       "      <th>4</th>\n",
       "      <td>Modelist</td>\n",
       "      <td>&lt;p&gt;&lt;/p&gt;&lt;li&gt;İhracat firmalarında dokuma ve örme...</td>\n",
       "    </tr>\n",
       "  </tbody>\n",
       "</table>\n",
       "</div>"
      ],
      "text/plain": [
       "                            PozisyonAdi  \\\n",
       "0                         Genel Başvuru   \n",
       "1  Uluslararası Hasta İlişkileri Uzmanı   \n",
       "2              Dilme Makinesi Operatörü   \n",
       "3  Uluslararası Hasta İlişkileri Uzmanı   \n",
       "4                            Modelist     \n",
       "\n",
       "                                               metin  \n",
       "0  <p>Genel başvuru&nbsp;amaçlı bu ilan firmamızd...  \n",
       "1  <ul><li><u><strong>Çok iyi düzeyde&nbsp;İTALYA...  \n",
       "2  <p>DİSİPLİNLİ TEMİZLİĞE DÜZENE ÖNEM VEREN TECR...  \n",
       "3  <ul><li><u><strong>Çok iyi düzeyde&nbsp;ALMANC...  \n",
       "4  <p></p><li>İhracat firmalarında dokuma ve örme...  "
      ]
     },
     "execution_count": 5,
     "metadata": {},
     "output_type": "execute_result"
    }
   ],
   "source": [
    "Jobs_positions_text_df.head()"
   ]
  },
  {
   "cell_type": "markdown",
   "id": "dab3e835-0520-495e-b4fc-c85ffc20c1a6",
   "metadata": {
    "tags": []
   },
   "source": [
    "## DATA DESCRIPTION"
   ]
  },
  {
   "cell_type": "code",
   "execution_count": 6,
   "id": "4457f5ff-f68b-47b7-9cb7-26704bfe347e",
   "metadata": {
    "tags": []
   },
   "outputs": [
    {
     "data": {
      "text/plain": [
       "Satış Danışmanı                     3261\n",
       "Mağaza Müdürü                       1348\n",
       "Muhasebe Elemanı                    1136\n",
       "Satış Temsilcisi                    1083\n",
       "Muhasebe Uzmanı                     1040\n",
       "Satış Elemanı                        886\n",
       "Müşteri Temsilcisi                   871\n",
       "Yönetici Asistanı                    857\n",
       "Genel Başvuru                        848\n",
       "Mağaza Satış Danışmanı               773\n",
       "Muhasebe Sorumlusu                   751\n",
       "Sekreter                             739\n",
       "Ön Muhasebe Elemanı                  737\n",
       "Çağrı Merkezi Müşteri Temsilcisi     644\n",
       "İnsan Kaynakları Uzmanı              624\n",
       "Resepsiyonist                        599\n",
       "Makine Mühendisi                     593\n",
       "Yazılım Uzmanı                       584\n",
       "Mağaza Müdür Yardımcısı              580\n",
       "Satış Uzmanı                         525\n",
       "Name: PozisyonAdi, dtype: int64"
      ]
     },
     "execution_count": 6,
     "metadata": {},
     "output_type": "execute_result"
    }
   ],
   "source": [
    "Jobs_positions_text_df[\"PozisyonAdi\"].value_counts().head(20)"
   ]
  },
  {
   "cell_type": "code",
   "execution_count": 7,
   "id": "91dae3e3-9947-49e2-851e-8aebafd7a91e",
   "metadata": {},
   "outputs": [
    {
     "data": {
      "text/plain": [
       "6904"
      ]
     },
     "execution_count": 7,
     "metadata": {},
     "output_type": "execute_result"
    }
   ],
   "source": [
    "Jobs_positions_text_df[\"PozisyonAdi\"].value_counts().count()"
   ]
  },
  {
   "cell_type": "markdown",
   "id": "a7047da9-f4df-4aea-b78f-920248caa1b6",
   "metadata": {
    "tags": []
   },
   "source": [
    "## SELECT DATA"
   ]
  },
  {
   "cell_type": "code",
   "execution_count": 8,
   "id": "62ff40bd-ec47-488c-8d66-d2c216bdc8e4",
   "metadata": {},
   "outputs": [],
   "source": [
    "Jobs_positions_text_df[\"PozisyonAdi\"]=Jobs_positions_text_df[\"PozisyonAdi\"].str.lower()"
   ]
  },
  {
   "cell_type": "code",
   "execution_count": 9,
   "id": "661152ed-f852-4ff4-ad37-3a861e6aab45",
   "metadata": {
    "tags": []
   },
   "outputs": [
    {
     "data": {
      "text/plain": [
       "PozisyonAdi    1123\n",
       "metin          1123\n",
       "dtype: int64"
      ]
     },
     "execution_count": 9,
     "metadata": {},
     "output_type": "execute_result"
    }
   ],
   "source": [
    "position_name= \"yazılım uzmanı\"\n",
    "Jobs_positions_text_df[Jobs_positions_text_df[\"PozisyonAdi\"].str.contains(position_name)].count()"
   ]
  },
  {
   "cell_type": "code",
   "execution_count": 10,
   "id": "fca87a54-7949-45c0-8995-1c9392ed9457",
   "metadata": {},
   "outputs": [],
   "source": [
    "yazilim_jobs_df = Jobs_positions_text_df[Jobs_positions_text_df[\"PozisyonAdi\"].str.contains(position_name)]"
   ]
  },
  {
   "cell_type": "code",
   "execution_count": 11,
   "id": "ff2fd179-51d4-4850-975a-30cd98bd8566",
   "metadata": {
    "tags": []
   },
   "outputs": [
    {
     "data": {
      "text/plain": [
       "PozisyonAdi               \n",
       "yazılım uzmanı                584\n",
       "java yazılım uzmanı            97\n",
       "web yazılım uzmanı             93\n",
       "mobil yazılım uzmanı           69\n",
       "arayüz yazılım uzmanı          64\n",
       "kıdemli yazılım uzmanı         60\n",
       "asp.net yazılım uzmanı         58\n",
       "php yazılım uzmanı             58\n",
       "oyun yazılım uzmanı            14\n",
       "oracle yazılım uzmanı          12\n",
       "sql yazılım uzmanı             10\n",
       "gömülü yazılım uzmanı           3\n",
       "dynamics ax yazılım uzmanı      1\n",
       "dtype: int64"
      ]
     },
     "execution_count": 11,
     "metadata": {},
     "output_type": "execute_result"
    }
   ],
   "source": [
    "yazilim_jobs_df[Jobs_positions_text_df[\"PozisyonAdi\"].str.contains(position_name)][[\"PozisyonAdi\"]].value_counts()\n",
    "#.sort_index(ascending=True)"
   ]
  },
  {
   "cell_type": "code",
   "execution_count": 12,
   "id": "0e0c1e89-cfae-4141-8b03-d3ff824b2b7c",
   "metadata": {
    "tags": []
   },
   "outputs": [],
   "source": [
    "yazilim_jobs_df.to_excel(\"yazilim_uzmani_jobs.xlsx\")  "
   ]
  },
  {
   "cell_type": "markdown",
   "id": "84a0660f-7c4b-472c-ac1b-1337ebb5a4c1",
   "metadata": {
    "tags": []
   },
   "source": [
    "# CLENING IN JOBS / STEP 2"
   ]
  },
  {
   "cell_type": "markdown",
   "id": "27d54a94-cc97-48a9-9193-9abe093e4976",
   "metadata": {},
   "source": [
    "HTML taglerinin, gereksiz karakterlerin, fazla boşlukların temizlenmesi. Madde işaretlerinin belirlenmesi ve farklı bir şekilde kaydedilmesi."
   ]
  },
  {
   "cell_type": "code",
   "execution_count": 13,
   "id": "ad12a02f-a260-4977-a572-7184f4006e0b",
   "metadata": {
    "tags": []
   },
   "outputs": [
    {
     "data": {
      "text/html": [
       "<div>\n",
       "<style scoped>\n",
       "    .dataframe tbody tr th:only-of-type {\n",
       "        vertical-align: middle;\n",
       "    }\n",
       "\n",
       "    .dataframe tbody tr th {\n",
       "        vertical-align: top;\n",
       "    }\n",
       "\n",
       "    .dataframe thead th {\n",
       "        text-align: right;\n",
       "    }\n",
       "</style>\n",
       "<table border=\"1\" class=\"dataframe\">\n",
       "  <thead>\n",
       "    <tr style=\"text-align: right;\">\n",
       "      <th></th>\n",
       "      <th>Unnamed: 0</th>\n",
       "      <th>PozisyonAdi</th>\n",
       "      <th>metin</th>\n",
       "    </tr>\n",
       "  </thead>\n",
       "  <tbody>\n",
       "    <tr>\n",
       "      <th>0</th>\n",
       "      <td>134</td>\n",
       "      <td>yazılım uzmanı</td>\n",
       "      <td>&lt;p&gt;Dünyada 150 ülkede, 27 farklı dil ile yakla...</td>\n",
       "    </tr>\n",
       "    <tr>\n",
       "      <th>1</th>\n",
       "      <td>137</td>\n",
       "      <td>yazılım uzmanı</td>\n",
       "      <td>&lt;p class=\"x_x_x_MsoNormal\"&gt;&lt;strong&gt;&lt;u&gt;&lt;span&gt;GE...</td>\n",
       "    </tr>\n",
       "    <tr>\n",
       "      <th>2</th>\n",
       "      <td>270</td>\n",
       "      <td>oyun yazılım uzmanı</td>\n",
       "      <td>&lt;p&gt;Oyun geliştirmeyi ve oynamayı hayat felsefe...</td>\n",
       "    </tr>\n",
       "    <tr>\n",
       "      <th>3</th>\n",
       "      <td>586</td>\n",
       "      <td>yazılım uzmanı</td>\n",
       "      <td>&lt;p&gt;Şirketimizde&amp;nbsp;görevlendirilmek üzere aş...</td>\n",
       "    </tr>\n",
       "    <tr>\n",
       "      <th>4</th>\n",
       "      <td>624</td>\n",
       "      <td>yazılım uzmanı</td>\n",
       "      <td>&lt;ul&gt; &lt;li&gt;&lt;span&gt;Yazılım geliştirme projelerind...</td>\n",
       "    </tr>\n",
       "  </tbody>\n",
       "</table>\n",
       "</div>"
      ],
      "text/plain": [
       "   Unnamed: 0          PozisyonAdi  \\\n",
       "0         134       yazılım uzmanı   \n",
       "1         137       yazılım uzmanı   \n",
       "2         270  oyun yazılım uzmanı   \n",
       "3         586       yazılım uzmanı   \n",
       "4         624       yazılım uzmanı   \n",
       "\n",
       "                                               metin  \n",
       "0  <p>Dünyada 150 ülkede, 27 farklı dil ile yakla...  \n",
       "1  <p class=\"x_x_x_MsoNormal\"><strong><u><span>GE...  \n",
       "2  <p>Oyun geliştirmeyi ve oynamayı hayat felsefe...  \n",
       "3  <p>Şirketimizde&nbsp;görevlendirilmek üzere aş...  \n",
       "4   <ul> <li><span>Yazılım geliştirme projelerind...  "
      ]
     },
     "execution_count": 13,
     "metadata": {},
     "output_type": "execute_result"
    }
   ],
   "source": [
    "raw_data = pd.read_excel(\"yazilim_uzmani_jobs.xlsx\")\n",
    "raw_data.head()"
   ]
  },
  {
   "cell_type": "markdown",
   "id": "484ba8dc-ce63-47e6-a381-fd2202fc8db8",
   "metadata": {
    "tags": []
   },
   "source": [
    "## CLEANING HTML TAGS AND UNNECESSARY CHARACTERS"
   ]
  },
  {
   "cell_type": "code",
   "execution_count": 14,
   "id": "3edfccaf-20a4-4a8f-87bf-079e8c9b9edb",
   "metadata": {},
   "outputs": [],
   "source": [
    "data = raw_data.copy()"
   ]
  },
  {
   "cell_type": "markdown",
   "id": "2c91f808-ef4d-46c2-89f6-c4ca582f720e",
   "metadata": {
    "tags": []
   },
   "source": [
    "### TO LOWER"
   ]
  },
  {
   "cell_type": "code",
   "execution_count": 15,
   "id": "0b58fb4c-e5b3-4e03-9e52-9ff5a9357b68",
   "metadata": {},
   "outputs": [],
   "source": [
    "data[\"metin\"] = data[\"metin\"].str.lower()"
   ]
  },
  {
   "cell_type": "markdown",
   "id": "1516db74-4135-4be6-ab4e-ac34ab5cef61",
   "metadata": {
    "tags": []
   },
   "source": [
    "### \\<li> TAG DETECT FUNCTION"
   ]
  },
  {
   "cell_type": "code",
   "execution_count": 16,
   "id": "c54933c0-41f6-4fe8-b77b-475fbc6729e3",
   "metadata": {
    "tags": []
   },
   "outputs": [],
   "source": [
    "def change_li(text):\n",
    "    clean = re.compile('(<li>)')\n",
    "    return re.sub(clean, ' BLLTX ', text)\n",
    "#<li> tag'ini farklı bir şekilde kaydetmemizi sağlar. Bu sayede aynı cümle içinde geçen özellikleri kaybetmemiş oluruz. "
   ]
  },
  {
   "cell_type": "markdown",
   "id": "ca349ce0-257b-44ad-85ff-6256f9b66337",
   "metadata": {
    "tags": []
   },
   "source": [
    "### HTML TAGS REMOVE FUNCTION"
   ]
  },
  {
   "cell_type": "code",
   "execution_count": 17,
   "id": "df7a3a05-29c2-4af6-b806-d2f02f0251a7",
   "metadata": {
    "tags": []
   },
   "outputs": [],
   "source": [
    "def remove_html_tags(text):\n",
    "    clean = re.compile('<.*?>')\n",
    "    return re.sub(clean, ' ', text)\n",
    "#html tag'lerini temizlememizi sağlar. "
   ]
  },
  {
   "cell_type": "markdown",
   "id": "937fd2aa-e334-43e0-821e-4b9df7a6b45d",
   "metadata": {
    "tags": []
   },
   "source": [
    "### CLEANING UNNECESSARY CHARACTERS"
   ]
  },
  {
   "cell_type": "code",
   "execution_count": 18,
   "id": "30a12d6b-401c-4b76-ae95-fd916c6700f7",
   "metadata": {},
   "outputs": [
    {
     "data": {
      "text/html": [
       "<div>\n",
       "<style scoped>\n",
       "    .dataframe tbody tr th:only-of-type {\n",
       "        vertical-align: middle;\n",
       "    }\n",
       "\n",
       "    .dataframe tbody tr th {\n",
       "        vertical-align: top;\n",
       "    }\n",
       "\n",
       "    .dataframe thead th {\n",
       "        text-align: right;\n",
       "    }\n",
       "</style>\n",
       "<table border=\"1\" class=\"dataframe\">\n",
       "  <thead>\n",
       "    <tr style=\"text-align: right;\">\n",
       "      <th></th>\n",
       "      <th>Unnamed: 0</th>\n",
       "      <th>PozisyonAdi</th>\n",
       "      <th>metin</th>\n",
       "    </tr>\n",
       "  </thead>\n",
       "  <tbody>\n",
       "    <tr>\n",
       "      <th>0</th>\n",
       "      <td>134</td>\n",
       "      <td>yazılım uzmanı</td>\n",
       "      <td>&lt;p&gt;dünyada 150 ülkede, 27 farklı dil ile yakla...</td>\n",
       "    </tr>\n",
       "    <tr>\n",
       "      <th>1</th>\n",
       "      <td>137</td>\n",
       "      <td>yazılım uzmanı</td>\n",
       "      <td>&lt;p class=\"x_x_x_msonormal\"&gt;&lt;strong&gt;&lt;u&gt;&lt;span&gt;ge...</td>\n",
       "    </tr>\n",
       "    <tr>\n",
       "      <th>2</th>\n",
       "      <td>270</td>\n",
       "      <td>oyun yazılım uzmanı</td>\n",
       "      <td>&lt;p&gt;oyun geliştirmeyi ve oynamayı hayat felsefe...</td>\n",
       "    </tr>\n",
       "    <tr>\n",
       "      <th>3</th>\n",
       "      <td>586</td>\n",
       "      <td>yazılım uzmanı</td>\n",
       "      <td>&lt;p&gt;şirketimizde görevlendirilmek üzere aşağıda...</td>\n",
       "    </tr>\n",
       "    <tr>\n",
       "      <th>4</th>\n",
       "      <td>624</td>\n",
       "      <td>yazılım uzmanı</td>\n",
       "      <td>&lt;ul&gt; &lt;li&gt;&lt;span&gt;yazılım geliştirme projelerind...</td>\n",
       "    </tr>\n",
       "  </tbody>\n",
       "</table>\n",
       "</div>"
      ],
      "text/plain": [
       "   Unnamed: 0          PozisyonAdi  \\\n",
       "0         134       yazılım uzmanı   \n",
       "1         137       yazılım uzmanı   \n",
       "2         270  oyun yazılım uzmanı   \n",
       "3         586       yazılım uzmanı   \n",
       "4         624       yazılım uzmanı   \n",
       "\n",
       "                                               metin  \n",
       "0  <p>dünyada 150 ülkede, 27 farklı dil ile yakla...  \n",
       "1  <p class=\"x_x_x_msonormal\"><strong><u><span>ge...  \n",
       "2  <p>oyun geliştirmeyi ve oynamayı hayat felsefe...  \n",
       "3  <p>şirketimizde görevlendirilmek üzere aşağıda...  \n",
       "4   <ul> <li><span>yazılım geliştirme projelerind...  "
      ]
     },
     "execution_count": 18,
     "metadata": {},
     "output_type": "execute_result"
    }
   ],
   "source": [
    "data[\"metin\"]=data[\"metin\"].replace(to_replace=[\"&nbsp;\"],value=\" \",regex=True,inplace=False)\n",
    "data.head()"
   ]
  },
  {
   "cell_type": "markdown",
   "id": "f220ed8e-a451-4ffd-86c5-787fc205fdd7",
   "metadata": {
    "tags": []
   },
   "source": [
    "### CLEANING HTML TAGS "
   ]
  },
  {
   "cell_type": "code",
   "execution_count": 19,
   "id": "151e385e-4486-4950-a1b2-499ddb19b828",
   "metadata": {},
   "outputs": [
    {
     "data": {
      "text/html": [
       "<div>\n",
       "<style scoped>\n",
       "    .dataframe tbody tr th:only-of-type {\n",
       "        vertical-align: middle;\n",
       "    }\n",
       "\n",
       "    .dataframe tbody tr th {\n",
       "        vertical-align: top;\n",
       "    }\n",
       "\n",
       "    .dataframe thead th {\n",
       "        text-align: right;\n",
       "    }\n",
       "</style>\n",
       "<table border=\"1\" class=\"dataframe\">\n",
       "  <thead>\n",
       "    <tr style=\"text-align: right;\">\n",
       "      <th></th>\n",
       "      <th>Unnamed: 0</th>\n",
       "      <th>PozisyonAdi</th>\n",
       "      <th>metin</th>\n",
       "    </tr>\n",
       "  </thead>\n",
       "  <tbody>\n",
       "    <tr>\n",
       "      <th>0</th>\n",
       "      <td>134</td>\n",
       "      <td>yazılım uzmanı</td>\n",
       "      <td>&lt;p&gt;dünyada 150 ülkede, 27 farklı dil ile yakla...</td>\n",
       "    </tr>\n",
       "    <tr>\n",
       "      <th>1</th>\n",
       "      <td>137</td>\n",
       "      <td>yazılım uzmanı</td>\n",
       "      <td>&lt;p class=\"x_x_x_msonormal\"&gt;&lt;strong&gt;&lt;u&gt;&lt;span&gt;ge...</td>\n",
       "    </tr>\n",
       "    <tr>\n",
       "      <th>2</th>\n",
       "      <td>270</td>\n",
       "      <td>oyun yazılım uzmanı</td>\n",
       "      <td>&lt;p&gt;oyun geliştirmeyi ve oynamayı hayat felsefe...</td>\n",
       "    </tr>\n",
       "    <tr>\n",
       "      <th>3</th>\n",
       "      <td>586</td>\n",
       "      <td>yazılım uzmanı</td>\n",
       "      <td>&lt;p&gt;şirketimizde görevlendirilmek üzere aşağıda...</td>\n",
       "    </tr>\n",
       "    <tr>\n",
       "      <th>4</th>\n",
       "      <td>624</td>\n",
       "      <td>yazılım uzmanı</td>\n",
       "      <td>&lt;ul&gt;  BLLTX &lt;span&gt;yazılım geliştirme projeler...</td>\n",
       "    </tr>\n",
       "  </tbody>\n",
       "</table>\n",
       "</div>"
      ],
      "text/plain": [
       "   Unnamed: 0          PozisyonAdi  \\\n",
       "0         134       yazılım uzmanı   \n",
       "1         137       yazılım uzmanı   \n",
       "2         270  oyun yazılım uzmanı   \n",
       "3         586       yazılım uzmanı   \n",
       "4         624       yazılım uzmanı   \n",
       "\n",
       "                                               metin  \n",
       "0  <p>dünyada 150 ülkede, 27 farklı dil ile yakla...  \n",
       "1  <p class=\"x_x_x_msonormal\"><strong><u><span>ge...  \n",
       "2  <p>oyun geliştirmeyi ve oynamayı hayat felsefe...  \n",
       "3  <p>şirketimizde görevlendirilmek üzere aşağıda...  \n",
       "4   <ul>  BLLTX <span>yazılım geliştirme projeler...  "
      ]
     },
     "execution_count": 19,
     "metadata": {},
     "output_type": "execute_result"
    }
   ],
   "source": [
    "data[\"metin\"]=data['metin'].apply(lambda text : change_li(text))\n",
    "data.head()"
   ]
  },
  {
   "cell_type": "code",
   "execution_count": 20,
   "id": "bac291b3-8861-4fb4-8d57-0ba78ad9e41b",
   "metadata": {},
   "outputs": [
    {
     "data": {
      "text/html": [
       "<div>\n",
       "<style scoped>\n",
       "    .dataframe tbody tr th:only-of-type {\n",
       "        vertical-align: middle;\n",
       "    }\n",
       "\n",
       "    .dataframe tbody tr th {\n",
       "        vertical-align: top;\n",
       "    }\n",
       "\n",
       "    .dataframe thead th {\n",
       "        text-align: right;\n",
       "    }\n",
       "</style>\n",
       "<table border=\"1\" class=\"dataframe\">\n",
       "  <thead>\n",
       "    <tr style=\"text-align: right;\">\n",
       "      <th></th>\n",
       "      <th>Unnamed: 0</th>\n",
       "      <th>PozisyonAdi</th>\n",
       "      <th>metin</th>\n",
       "    </tr>\n",
       "  </thead>\n",
       "  <tbody>\n",
       "    <tr>\n",
       "      <th>0</th>\n",
       "      <td>134</td>\n",
       "      <td>yazılım uzmanı</td>\n",
       "      <td>dünyada 150 ülkede, 27 farklı dil ile yaklaşı...</td>\n",
       "    </tr>\n",
       "    <tr>\n",
       "      <th>1</th>\n",
       "      <td>137</td>\n",
       "      <td>yazılım uzmanı</td>\n",
       "      <td>genel ni̇teli̇kler        BLLTX  üniversit...</td>\n",
       "    </tr>\n",
       "    <tr>\n",
       "      <th>2</th>\n",
       "      <td>270</td>\n",
       "      <td>oyun yazılım uzmanı</td>\n",
       "      <td>oyun geliştirmeyi ve oynamayı hayat felsefesi...</td>\n",
       "    </tr>\n",
       "    <tr>\n",
       "      <th>3</th>\n",
       "      <td>586</td>\n",
       "      <td>yazılım uzmanı</td>\n",
       "      <td>şirketimizde görevlendirilmek üzere aşağıdaki...</td>\n",
       "    </tr>\n",
       "    <tr>\n",
       "      <th>4</th>\n",
       "      <td>624</td>\n",
       "      <td>yazılım uzmanı</td>\n",
       "      <td>BLLTX  yazılım geliştirme projelerinde akt...</td>\n",
       "    </tr>\n",
       "  </tbody>\n",
       "</table>\n",
       "</div>"
      ],
      "text/plain": [
       "   Unnamed: 0          PozisyonAdi  \\\n",
       "0         134       yazılım uzmanı   \n",
       "1         137       yazılım uzmanı   \n",
       "2         270  oyun yazılım uzmanı   \n",
       "3         586       yazılım uzmanı   \n",
       "4         624       yazılım uzmanı   \n",
       "\n",
       "                                               metin  \n",
       "0   dünyada 150 ülkede, 27 farklı dil ile yaklaşı...  \n",
       "1      genel ni̇teli̇kler        BLLTX  üniversit...  \n",
       "2   oyun geliştirmeyi ve oynamayı hayat felsefesi...  \n",
       "3   şirketimizde görevlendirilmek üzere aşağıdaki...  \n",
       "4      BLLTX  yazılım geliştirme projelerinde akt...  "
      ]
     },
     "execution_count": 20,
     "metadata": {},
     "output_type": "execute_result"
    }
   ],
   "source": [
    "data[\"metin\"]=data['metin'].apply(lambda metin : remove_html_tags(metin))\n",
    "data.head()"
   ]
  },
  {
   "cell_type": "markdown",
   "id": "70f402a7-8d36-4fba-828f-4c71432c6db1",
   "metadata": {
    "tags": []
   },
   "source": [
    "## REMOVE TOO MUCH SPACE"
   ]
  },
  {
   "cell_type": "code",
   "execution_count": 21,
   "id": "676a3849-d9c8-4e0e-8e31-ed419e354bac",
   "metadata": {},
   "outputs": [],
   "source": [
    "data[\"metin\"]=data['metin'].apply(lambda text : re.sub(' +', ' ', text))"
   ]
  },
  {
   "cell_type": "markdown",
   "id": "d6e8ddf7-8008-4ec9-b145-8bff2beca69d",
   "metadata": {
    "tags": []
   },
   "source": [
    "## CHANGE BULLET SIGN"
   ]
  },
  {
   "cell_type": "code",
   "execution_count": 22,
   "id": "29112f60-cd75-4d1e-9182-51770d0709bc",
   "metadata": {
    "tags": []
   },
   "outputs": [],
   "source": [
    "data[\"metin\"]=data[\"metin\"].replace(to_replace=\"·|•|\\*\",value=\" BLLTX \",regex=True,inplace=False)"
   ]
  },
  {
   "cell_type": "code",
   "execution_count": 23,
   "id": "aa54ef37-47ce-40b4-a396-84ce6cdb8373",
   "metadata": {
    "tags": []
   },
   "outputs": [
    {
     "data": {
      "text/plain": [
       "' 1. php diline hakim, 2. mysql veritabanı n da deneyimli 3. web uygulamaları geliştirme konusunda deneyimli (html5, jquery, ajax, css3 tecrübesi bulunan) 4. i̇leri seviyede wordpress eklenti ve temalara hakim , 5. linux server ile çalışabilen , 6. yaptığı işlerle ilgili referans gösterebilen, 7. teknik dokümantasyonu takip edebilecek seviyede i̇ngilizce bilen 8. erkek adaylar için askerliğini tamamlamış veya 3 yıl tecilli 9. benzer pozisyonda en az 1 yıl deneyimli, '"
      ]
     },
     "execution_count": 23,
     "metadata": {},
     "output_type": "execute_result"
    }
   ],
   "source": [
    "data[\"metin\"][45]"
   ]
  },
  {
   "cell_type": "markdown",
   "id": "6166459a-42cf-420c-b3bd-a336bcc685de",
   "metadata": {
    "tags": []
   },
   "source": [
    "# MASKING FOR SPECIAL TERMS / STEP 3"
   ]
  },
  {
   "cell_type": "markdown",
   "id": "cc285036-9f78-4368-8f8c-b57a3e5dcd85",
   "metadata": {},
   "source": [
    "Özel karakter içeren skiller ve diğer başka skiller için maskeleme işleminin yapılması"
   ]
  },
  {
   "cell_type": "code",
   "execution_count": 24,
   "id": "384234bc-118e-46de-b434-4e6497b83411",
   "metadata": {},
   "outputs": [],
   "source": [
    "data_without_special_terms = data.copy()"
   ]
  },
  {
   "cell_type": "markdown",
   "id": "4fda7f0a-ceee-47ef-b929-befba3ead8c8",
   "metadata": {
    "tags": []
   },
   "source": [
    "## CREATE DICTIONARY"
   ]
  },
  {
   "cell_type": "markdown",
   "id": "2a84a275-55b2-4213-9350-ff11efdaeee9",
   "metadata": {
    "tags": []
   },
   "source": [
    "Special Term'leri okuyup iki yönlü bir sözlük oluşturuluyor."
   ]
  },
  {
   "cell_type": "code",
   "execution_count": 25,
   "id": "ac1996e4-ed9e-4ca3-a53a-9decf921a13a",
   "metadata": {},
   "outputs": [],
   "source": [
    "special_terms_dictionary = {}\n",
    "reversed_special_terms_dictionary = {}\n",
    "with open(os.path.abspath('..')+\"\\Data\\_special_terms.txt\",encoding=\"utf8\") as file:\n",
    "    line_counter=1\n",
    "    for line in file:\n",
    "        line=line.lower()\n",
    "        #if(\"+\" in line):\n",
    "        #    line=line.replace(\"+\",\"\\+\",1) #Regex'ten dolayı \\ ekleme işlemi\n",
    "        special_terms_dictionary[line.strip(\"\\n\")] = \"SPCL\"+str(line_counter)+\"SPCL\"\n",
    "        reversed_special_terms_dictionary[\"SPCL\"+str(line_counter)+\"SPCL\"] = line.strip()\n",
    "        line_counter +=1"
   ]
  },
  {
   "cell_type": "code",
   "execution_count": 26,
   "id": "8419310b-5301-4bf9-879d-a307c2320f6b",
   "metadata": {
    "collapsed": true,
    "jupyter": {
     "outputs_hidden": true
    },
    "tags": []
   },
   "outputs": [
    {
     "data": {
      "text/plain": [
       "{'swift': 'SPCL1SPCL',\n",
       " 'kotlin': 'SPCL2SPCL',\n",
       " 'android': 'SPCL3SPCL',\n",
       " 'backend': 'SPCL4SPCL',\n",
       " 'back end': 'SPCL5SPCL',\n",
       " 'gömülü sistem': 'SPCL6SPCL',\n",
       " 'iot': 'SPCL7SPCL',\n",
       " 'embedded systems': 'SPCL8SPCL',\n",
       " 'makine öğrenmesi': 'SPCL9SPCL',\n",
       " 'machine learning': 'SPCL10SPCL',\n",
       " 'önyüz': 'SPCL11SPCL',\n",
       " 'ön yüz': 'SPCL12SPCL',\n",
       " 'frontend': 'SPCL13SPCL',\n",
       " 'front end': 'SPCL14SPCL',\n",
       " 'fullstack': 'SPCL15SPCL',\n",
       " 'full stack': 'SPCL16SPCL',\n",
       " 'ios': 'SPCL17SPCL',\n",
       " 'perl': 'SPCL18SPCL',\n",
       " 'rust': 'SPCL19SPCL',\n",
       " 'html': 'SPCL20SPCL',\n",
       " 'unity': 'SPCL21SPCL',\n",
       " 'unity3d': 'SPCL22SPCL',\n",
       " 'python': 'SPCL23SPCL',\n",
       " 'java': 'SPCL24SPCL',\n",
       " 'javascript': 'SPCL25SPCL',\n",
       " ' r ': 'SPCL26SPCL',\n",
       " 'php': 'SPCL27SPCL',\n",
       " 'visual basic': 'SPCL28SPCL',\n",
       " 'go': 'SPCL29SPCL',\n",
       " 'ruby': 'SPCL30SPCL',\n",
       " 'asp. net core': 'SPCL31SPCL',\n",
       " 'asp. net': 'SPCL32SPCL',\n",
       " 'ado.net': 'SPCL33SPCL',\n",
       " 'asp.net ajax': 'SPCL34SPCL',\n",
       " 'asp.net ': 'SPCL35SPCL',\n",
       " 'mvc': 'SPCL36SPCL',\n",
       " ' c ': 'SPCL37SPCL',\n",
       " ' sap ': 'SPCL38SPCL',\n",
       " ' gi̇t ': 'SPCL39SPCL',\n",
       " 'asp.net core': 'SPCL40SPCL',\n",
       " 'i2c': 'SPCL41SPCL',\n",
       " 'asp.netcore': 'SPCL42SPCL',\n",
       " 'asp.net': 'SPCL43SPCL',\n",
       " 'c#.net': 'SPCL44SPCL',\n",
       " '.net': 'SPCL45SPCL',\n",
       " '.net core': 'SPCL46SPCL',\n",
       " '.net compact framework': 'SPCL47SPCL',\n",
       " '.net remoting': 'SPCL48SPCL',\n",
       " 'backbone.js': 'SPCL49SPCL',\n",
       " 'cruisecontrol.rb': 'SPCL50SPCL',\n",
       " 'd3.js': 'SPCL51SPCL',\n",
       " 'dice.com': 'SPCL52SPCL',\n",
       " 'ember.js': 'SPCL53SPCL',\n",
       " 'force.com': 'SPCL54SPCL',\n",
       " 'h.264/mpeg-4 avc': 'SPCL55SPCL',\n",
       " 'h.323': 'SPCL56SPCL',\n",
       " 'ieee 802.11': 'SPCL57SPCL',\n",
       " 'ieee 802.11n': 'SPCL58SPCL',\n",
       " 'ieee 802.1x': 'SPCL59SPCL',\n",
       " 'node.js': 'SPCL60SPCL',\n",
       " 'odp.net': 'SPCL61SPCL',\n",
       " 'paint.net': 'SPCL62SPCL',\n",
       " 'salesforce.com': 'SPCL63SPCL',\n",
       " 'salesforce.com administration': 'SPCL64SPCL',\n",
       " 'spring.net': 'SPCL65SPCL',\n",
       " 'underscore.js': 'SPCL66SPCL',\n",
       " 'visual basic .net': 'SPCL67SPCL',\n",
       " 'web 2.0': 'SPCL68SPCL',\n",
       " 'a+': 'SPCL69SPCL',\n",
       " 'c#': 'SPCL70SPCL',\n",
       " 'c++': 'SPCL71SPCL',\n",
       " 'c++builder': 'SPCL72SPCL',\n",
       " 'cdia+': 'SPCL73SPCL',\n",
       " 'com+': 'SPCL74SPCL',\n",
       " 'crypto++': 'SPCL75SPCL',\n",
       " 'ctp+': 'SPCL76SPCL',\n",
       " 'ctt+': 'SPCL77SPCL',\n",
       " 'embedded c++': 'SPCL78SPCL',\n",
       " 'google+': 'SPCL79SPCL',\n",
       " 'hspa+': 'SPCL80SPCL',\n",
       " 'linux+': 'SPCL81SPCL',\n",
       " 'lsa++': 'SPCL82SPCL',\n",
       " 'network+': 'SPCL83SPCL',\n",
       " 'notepad++': 'SPCL84SPCL',\n",
       " 'pdi+': 'SPCL85SPCL',\n",
       " 'security+': 'SPCL86SPCL',\n",
       " 'server+': 'SPCL87SPCL',\n",
       " 'storage+': 'SPCL88SPCL',\n",
       " 'systembuilder/sb+': 'SPCL89SPCL',\n",
       " 'tacacs+': 'SPCL90SPCL',\n",
       " 'visual c++': 'SPCL91SPCL',\n",
       " 'x++': 'SPCL92SPCL',\n",
       " 'a/b testing': 'SPCL93SPCL',\n",
       " 'as/400 control language': 'SPCL94SPCL',\n",
       " 'break/fix': 'SPCL95SPCL',\n",
       " 'ca ops/mvs': 'SPCL96SPCL',\n",
       " 'client/server': 'SPCL97SPCL',\n",
       " 'dos/4g': 'SPCL98SPCL',\n",
       " 'er/studio': 'SPCL99SPCL',\n",
       " 'esql/c': 'SPCL100SPCL',\n",
       " 'ess/mss': 'SPCL101SPCL',\n",
       " 'fit/gap analysis': 'SPCL102SPCL',\n",
       " 'ipx/spx': 'SPCL103SPCL',\n",
       " 'iso/iec 20000': 'SPCL104SPCL',\n",
       " 'iso/iec 27000-series': 'SPCL105SPCL',\n",
       " 'iso/iec 27001:2005': 'SPCL106SPCL',\n",
       " 'job entry subsystem 2/3': 'SPCL107SPCL',\n",
       " 'labwindows/cvi': 'SPCL108SPCL',\n",
       " 'max/msp': 'SPCL109SPCL',\n",
       " 'os/2': 'SPCL110SPCL',\n",
       " 'os/390': 'SPCL111SPCL',\n",
       " 'pl/i': 'SPCL112SPCL',\n",
       " 'pl/sql': 'SPCL113SPCL',\n",
       " 'pro/mechanica': 'SPCL114SPCL',\n",
       " 'query/400': 'SPCL115SPCL',\n",
       " 's/mime': 'SPCL116SPCL',\n",
       " 'sap pp/ds': 'SPCL117SPCL',\n",
       " 'sap pp/pi': 'SPCL118SPCL',\n",
       " 'sap r/3': 'SPCL119SPCL',\n",
       " 'sap/macro': 'SPCL120SPCL',\n",
       " 'sas/access': 'SPCL121SPCL',\n",
       " 'sas/assist': 'SPCL122SPCL',\n",
       " 'sas/base': 'SPCL123SPCL',\n",
       " 'sas/connect': 'SPCL124SPCL',\n",
       " 'sas/enterprise miner': 'SPCL125SPCL',\n",
       " 'sas/etl': 'SPCL126SPCL',\n",
       " 'sas/ets': 'SPCL127SPCL',\n",
       " 'sas/graph': 'SPCL128SPCL',\n",
       " 'sas/macros': 'SPCL129SPCL',\n",
       " 'sas/ods': 'SPCL130SPCL',\n",
       " 'sas/reports': 'SPCL131SPCL',\n",
       " 'sas/share': 'SPCL132SPCL',\n",
       " 'sas/sql': 'SPCL133SPCL',\n",
       " 'sas/stat': 'SPCL134SPCL',\n",
       " 'smp/e': 'SPCL135SPCL',\n",
       " 'sql/400': 'SPCL136SPCL',\n",
       " 'tcp/ip': 'SPCL137SPCL',\n",
       " 'vm/cms': 'SPCL138SPCL',\n",
       " 'z/linux': 'SPCL139SPCL',\n",
       " 'z/os': 'SPCL140SPCL',\n",
       " 'z/vm': 'SPCL141SPCL',\n",
       " 'z/vse': 'SPCL142SPCL',\n",
       " '10base-t': 'SPCL143SPCL',\n",
       " '3g-324m': 'SPCL144SPCL',\n",
       " 'abend-aid': 'SPCL145SPCL',\n",
       " 'activity-based': 'SPCL146SPCL',\n",
       " 'alcatel-lucent': 'SPCL147SPCL',\n",
       " 'allen-bradley': 'SPCL148SPCL',\n",
       " 'as-is': 'SPCL149SPCL',\n",
       " 'aspect-oriented': 'SPCL150SPCL',\n",
       " 'author-it': 'SPCL151SPCL',\n",
       " 'available-to-promise': 'SPCL152SPCL',\n",
       " 'behavior-driven': 'SPCL153SPCL',\n",
       " 'black-box': 'SPCL154SPCL',\n",
       " 'control-m': 'SPCL155SPCL',\n",
       " 'business-it': 'SPCL156SPCL',\n",
       " 'business-to-business': 'SPCL157SPCL',\n",
       " 'business-to-consumer': 'SPCL158SPCL',\n",
       " 'ca-1': 'SPCL159SPCL',\n",
       " 'ca-11': 'SPCL160SPCL',\n",
       " 'ca-7': 'SPCL161SPCL',\n",
       " 'call-recording': 'SPCL162SPCL',\n",
       " 'ca-telon': 'SPCL163SPCL',\n",
       " 'c-level': 'SPCL164SPCL',\n",
       " 'command-line': 'SPCL165SPCL',\n",
       " 'complete-linkage': 'SPCL166SPCL',\n",
       " 'computer-aided': 'SPCL167SPCL',\n",
       " 'decision-making': 'SPCL168SPCL',\n",
       " 'cost-benefit': 'SPCL169SPCL',\n",
       " 'counter-terrorism': 'SPCL170SPCL',\n",
       " 'cross-browser': 'SPCL171SPCL',\n",
       " 'cross-functional': 'SPCL172SPCL',\n",
       " 'data-driven': 'SPCL173SPCL',\n",
       " 'data-flow': 'SPCL174SPCL',\n",
       " 'dcgs-a': 'SPCL175SPCL',\n",
       " 'do-160': 'SPCL176SPCL',\n",
       " 'do-178b': 'SPCL177SPCL',\n",
       " 'do-178c': 'SPCL178SPCL',\n",
       " 'do-254': 'SPCL179SPCL',\n",
       " 'dodd-frank': 'SPCL180SPCL',\n",
       " 'domain-driven': 'SPCL181SPCL',\n",
       " 'e-learning': 'SPCL182SPCL',\n",
       " 'self-service': 'SPCL183SPCL',\n",
       " 'end-user': 'SPCL184SPCL',\n",
       " '9-1-1': 'SPCL185SPCL',\n",
       " 'e-pro': 'SPCL186SPCL',\n",
       " 'e-procurement': 'SPCL187SPCL',\n",
       " 'e-statement': 'SPCL188SPCL',\n",
       " 'far-western': 'SPCL189SPCL',\n",
       " 'go-to-market': 'SPCL190SPCL',\n",
       " 'gramm-leach-bliley': 'SPCL191SPCL',\n",
       " 'h.264/mpeg-4': 'SPCL192SPCL',\n",
       " 'hardware-in-the-loop': 'SPCL193SPCL',\n",
       " 'high-level': 'SPCL194SPCL',\n",
       " 'hp-ux': 'SPCL195SPCL',\n",
       " 'human-computer': 'SPCL196SPCL',\n",
       " 'hyper-v': 'SPCL197SPCL',\n",
       " 'informix-4gl': 'SPCL198SPCL',\n",
       " 'icd-10': 'SPCL199SPCL',\n",
       " 'icd-9': 'SPCL200SPCL',\n",
       " 'instructor-led': 'SPCL201SPCL',\n",
       " 'iso/iec': 'SPCL202SPCL',\n",
       " '27000-series': 'SPCL203SPCL',\n",
       " 'jax-rpc': 'SPCL204SPCL',\n",
       " 'jax-rs': 'SPCL205SPCL',\n",
       " 'jax-ws': 'SPCL206SPCL',\n",
       " 'q-flats': 'SPCL207SPCL',\n",
       " 'kernel-based': 'SPCL208SPCL',\n",
       " 'keyword-driven': 'SPCL209SPCL',\n",
       " 'k-means': 'SPCL210SPCL',\n",
       " 'k-medians': 'SPCL211SPCL',\n",
       " 'k-medoids': 'SPCL212SPCL',\n",
       " 'k-nearest': 'SPCL213SPCL',\n",
       " 'land-use': 'SPCL214SPCL',\n",
       " 'location-based': 'SPCL215SPCL',\n",
       " 'ls-dyna': 'SPCL216SPCL',\n",
       " 'maximum-entropy': 'SPCL217SPCL',\n",
       " 'mean-shift': 'SPCL218SPCL',\n",
       " 'meta-data': 'SPCL219SPCL',\n",
       " 'app-v': 'SPCL220SPCL',\n",
       " 'mixed-signal': 'SPCL221SPCL',\n",
       " 'mobile-device': 'SPCL222SPCL',\n",
       " 'model-based': 'SPCL223SPCL',\n",
       " 'mpeg-2': 'SPCL224SPCL',\n",
       " 'ms-dos': 'SPCL225SPCL',\n",
       " 'multi-core': 'SPCL226SPCL',\n",
       " 'multi-factor': 'SPCL227SPCL',\n",
       " 'named-entity': 'SPCL228SPCL',\n",
       " '800-53': 'SPCL229SPCL',\n",
       " 'non-functional': 'SPCL230SPCL',\n",
       " 'non-profit': 'SPCL231SPCL',\n",
       " 'ntfs-3g': 'SPCL232SPCL',\n",
       " 'objective-c': 'SPCL233SPCL',\n",
       " 'object-relational': 'SPCL234SPCL',\n",
       " 'physical-to-virtual': 'SPCL235SPCL',\n",
       " 'post-production': 'SPCL236SPCL',\n",
       " 'process-driven': 'SPCL237SPCL',\n",
       " 'procure-to-pay': 'SPCL238SPCL',\n",
       " 'qf-test': 'SPCL239SPCL',\n",
       " 'real-time': 'SPCL240SPCL',\n",
       " 'risk-based': 'SPCL241SPCL',\n",
       " 'rs-232': 'SPCL242SPCL',\n",
       " 'rt-pcr': 'SPCL243SPCL',\n",
       " 'auto-id': 'SPCL244SPCL',\n",
       " 'is-u': 'SPCL245SPCL',\n",
       " 'mm-pur': 'SPCL246SPCL',\n",
       " 'sarbanes-oxley': 'SPCL247SPCL',\n",
       " 'scikit-learn': 'SPCL248SPCL',\n",
       " 'screen-printing': 'SPCL249SPCL',\n",
       " 'security-enhanced': 'SPCL250SPCL',\n",
       " 'self-organizing': 'SPCL251SPCL',\n",
       " 'semi-supervised': 'SPCL252SPCL',\n",
       " 'set-top': 'SPCL253SPCL',\n",
       " 'single-linkage': 'SPCL254SPCL',\n",
       " 'solid-state': 'SPCL255SPCL',\n",
       " 's-plus': 'SPCL256SPCL',\n",
       " 'sr-iov': 'SPCL257SPCL',\n",
       " 'test-driven': 'SPCL258SPCL',\n",
       " 'to-be': 'SPCL259SPCL',\n",
       " 'transact-sql': 'SPCL260SPCL',\n",
       " 't-sql': 'SPCL261SPCL',\n",
       " 'user-centered': 'SPCL262SPCL',\n",
       " 'v-model': 'SPCL263SPCL',\n",
       " 'v-ray': 'SPCL264SPCL',\n",
       " 'w-cdma': 'SPCL265SPCL',\n",
       " 'white-box': 'SPCL266SPCL',\n",
       " 'word-sense': 'SPCL267SPCL',\n",
       " 'e-ticaret': 'SPCL268SPCL',\n",
       " 'ar-ge': 'SPCL269SPCL'}"
      ]
     },
     "execution_count": 26,
     "metadata": {},
     "output_type": "execute_result"
    }
   ],
   "source": [
    "special_terms_dictionary"
   ]
  },
  {
   "cell_type": "markdown",
   "id": "4f943215-8b02-4a83-a7cd-e7c5ba0671c4",
   "metadata": {
    "tags": []
   },
   "source": [
    "## MASKING"
   ]
  },
  {
   "cell_type": "code",
   "execution_count": 27,
   "id": "87d040b0-8ddf-4e7d-9d9e-4354c06493ab",
   "metadata": {
    "tags": []
   },
   "outputs": [],
   "source": [
    "for key,val in special_terms_dictionary.items():\n",
    "    data_without_special_terms[\"metin\"] = data_without_special_terms[\"metin\"].apply(lambda text: text.replace(key,\" \"+val+\" \"))    "
   ]
  },
  {
   "cell_type": "code",
   "execution_count": 28,
   "id": "667b22e2-84fb-483f-ab55-42ffcd940c59",
   "metadata": {
    "tags": []
   },
   "outputs": [
    {
     "data": {
      "text/plain": [
       "' 1.  SPCL27SPCL  diline hakim, 2. mysql veritabanı n da deneyimli 3. web uygulamaları geliştirme konusunda deneyimli ( SPCL20SPCL 5, jquery, ajax, css3 tecrübesi bulunan) 4. i̇leri seviyede wordpress eklenti ve temalara hakim , 5. linux server ile çalışabilen , 6. yaptığı işlerle ilgili referans gösterebilen, 7. teknik dokümantasyonu takip edebilecek seviyede i̇ngilizce bilen 8. erkek adaylar için askerliğini tamamlamış veya 3 yıl tecilli 9. benzer pozisyonda en az 1 yıl deneyimli, '"
      ]
     },
     "execution_count": 28,
     "metadata": {},
     "output_type": "execute_result"
    }
   ],
   "source": [
    "data_without_special_terms[\"metin\"][45]"
   ]
  },
  {
   "cell_type": "markdown",
   "id": "4b024cfb-317b-4ea7-9a60-6bc6ad5efcec",
   "metadata": {
    "tags": []
   },
   "source": [
    "# CLEANING STOP WORDS / STEP 4"
   ]
  },
  {
   "cell_type": "markdown",
   "id": "b7da9b2e-a5ec-4dec-8077-8af6f943699e",
   "metadata": {},
   "source": [
    "İlanlar içinde geçen stop wordlerin temizlenmesi."
   ]
  },
  {
   "cell_type": "code",
   "execution_count": 29,
   "id": "c0a47635-11e3-49a8-aa9b-90db2af0fae3",
   "metadata": {
    "tags": []
   },
   "outputs": [
    {
     "data": {
      "text/html": [
       "<div>\n",
       "<style scoped>\n",
       "    .dataframe tbody tr th:only-of-type {\n",
       "        vertical-align: middle;\n",
       "    }\n",
       "\n",
       "    .dataframe tbody tr th {\n",
       "        vertical-align: top;\n",
       "    }\n",
       "\n",
       "    .dataframe thead th {\n",
       "        text-align: right;\n",
       "    }\n",
       "</style>\n",
       "<table border=\"1\" class=\"dataframe\">\n",
       "  <thead>\n",
       "    <tr style=\"text-align: right;\">\n",
       "      <th></th>\n",
       "      <th>Unnamed: 0</th>\n",
       "      <th>PozisyonAdi</th>\n",
       "      <th>metin</th>\n",
       "    </tr>\n",
       "  </thead>\n",
       "  <tbody>\n",
       "    <tr>\n",
       "      <th>0</th>\n",
       "      <td>134</td>\n",
       "      <td>yazılım uzmanı</td>\n",
       "      <td>dünyada 150 ülkede, 27 farklı dil ile yaklaşı...</td>\n",
       "    </tr>\n",
       "    <tr>\n",
       "      <th>1</th>\n",
       "      <td>137</td>\n",
       "      <td>yazılım uzmanı</td>\n",
       "      <td>genel ni̇teli̇kler BLLTX üniversitelerin, bil...</td>\n",
       "    </tr>\n",
       "    <tr>\n",
       "      <th>2</th>\n",
       "      <td>270</td>\n",
       "      <td>oyun yazılım uzmanı</td>\n",
       "      <td>oyun geliştirmeyi ve oynamayı hayat felsefesi...</td>\n",
       "    </tr>\n",
       "    <tr>\n",
       "      <th>3</th>\n",
       "      <td>586</td>\n",
       "      <td>yazılım uzmanı</td>\n",
       "      <td>şirketimizde görevlendirilmek üzere aşağıdaki...</td>\n",
       "    </tr>\n",
       "    <tr>\n",
       "      <th>4</th>\n",
       "      <td>624</td>\n",
       "      <td>yazılım uzmanı</td>\n",
       "      <td>BLLTX yazılım geliştirme projelerinde aktif y...</td>\n",
       "    </tr>\n",
       "  </tbody>\n",
       "</table>\n",
       "</div>"
      ],
      "text/plain": [
       "   Unnamed: 0          PozisyonAdi  \\\n",
       "0         134       yazılım uzmanı   \n",
       "1         137       yazılım uzmanı   \n",
       "2         270  oyun yazılım uzmanı   \n",
       "3         586       yazılım uzmanı   \n",
       "4         624       yazılım uzmanı   \n",
       "\n",
       "                                               metin  \n",
       "0   dünyada 150 ülkede, 27 farklı dil ile yaklaşı...  \n",
       "1   genel ni̇teli̇kler BLLTX üniversitelerin, bil...  \n",
       "2   oyun geliştirmeyi ve oynamayı hayat felsefesi...  \n",
       "3   şirketimizde görevlendirilmek üzere aşağıdaki...  \n",
       "4   BLLTX yazılım geliştirme projelerinde aktif y...  "
      ]
     },
     "execution_count": 29,
     "metadata": {},
     "output_type": "execute_result"
    }
   ],
   "source": [
    "clean_data_v1 = data_without_special_terms.copy()\n",
    "clean_data_v1.head()"
   ]
  },
  {
   "cell_type": "code",
   "execution_count": 30,
   "id": "5f76708c-ad5b-4364-875e-dc7c080c92bf",
   "metadata": {
    "tags": []
   },
   "outputs": [
    {
     "data": {
      "text/html": [
       "<div>\n",
       "<style scoped>\n",
       "    .dataframe tbody tr th:only-of-type {\n",
       "        vertical-align: middle;\n",
       "    }\n",
       "\n",
       "    .dataframe tbody tr th {\n",
       "        vertical-align: top;\n",
       "    }\n",
       "\n",
       "    .dataframe thead th {\n",
       "        text-align: right;\n",
       "    }\n",
       "</style>\n",
       "<table border=\"1\" class=\"dataframe\">\n",
       "  <thead>\n",
       "    <tr style=\"text-align: right;\">\n",
       "      <th></th>\n",
       "      <th>PozisyonAdi</th>\n",
       "      <th>metin</th>\n",
       "    </tr>\n",
       "  </thead>\n",
       "  <tbody>\n",
       "    <tr>\n",
       "      <th>0</th>\n",
       "      <td>yazılım uzmanı</td>\n",
       "      <td>dünyada 150 ülkede, 27 farklı dil ile yaklaşı...</td>\n",
       "    </tr>\n",
       "    <tr>\n",
       "      <th>1</th>\n",
       "      <td>yazılım uzmanı</td>\n",
       "      <td>genel ni̇teli̇kler BLLTX üniversitelerin, bil...</td>\n",
       "    </tr>\n",
       "    <tr>\n",
       "      <th>2</th>\n",
       "      <td>oyun yazılım uzmanı</td>\n",
       "      <td>oyun geliştirmeyi ve oynamayı hayat felsefesi...</td>\n",
       "    </tr>\n",
       "    <tr>\n",
       "      <th>3</th>\n",
       "      <td>yazılım uzmanı</td>\n",
       "      <td>şirketimizde görevlendirilmek üzere aşağıdaki...</td>\n",
       "    </tr>\n",
       "    <tr>\n",
       "      <th>4</th>\n",
       "      <td>yazılım uzmanı</td>\n",
       "      <td>BLLTX yazılım geliştirme projelerinde aktif y...</td>\n",
       "    </tr>\n",
       "  </tbody>\n",
       "</table>\n",
       "</div>"
      ],
      "text/plain": [
       "           PozisyonAdi                                              metin\n",
       "0       yazılım uzmanı   dünyada 150 ülkede, 27 farklı dil ile yaklaşı...\n",
       "1       yazılım uzmanı   genel ni̇teli̇kler BLLTX üniversitelerin, bil...\n",
       "2  oyun yazılım uzmanı   oyun geliştirmeyi ve oynamayı hayat felsefesi...\n",
       "3       yazılım uzmanı   şirketimizde görevlendirilmek üzere aşağıdaki...\n",
       "4       yazılım uzmanı   BLLTX yazılım geliştirme projelerinde aktif y..."
      ]
     },
     "execution_count": 30,
     "metadata": {},
     "output_type": "execute_result"
    }
   ],
   "source": [
    "clean_data_v1 = clean_data_v1.drop(['Unnamed: 0'], axis=1)\n",
    "clean_data_v1.head()"
   ]
  },
  {
   "cell_type": "markdown",
   "id": "9e5dec10-db59-437b-89a1-635a91e5cec3",
   "metadata": {
    "tags": []
   },
   "source": [
    "## CREATE ENGLISH AND TURKISH STOP WORDS LIST"
   ]
  },
  {
   "cell_type": "code",
   "execution_count": 31,
   "id": "1cf3c0da-59de-46c5-9df0-ddffdedb29ba",
   "metadata": {
    "tags": []
   },
   "outputs": [],
   "source": [
    "english_stop_words = []\n",
    "turkish_stop_words = []\n",
    "\n",
    "with open(os.path.abspath('..')+\"\\Data\\_english-stop-words.txt\",encoding=\"utf8\") as file:\n",
    "    for line in file:\n",
    "        line=line.lower()\n",
    "        english_stop_words.append(line.strip())\n",
    "        \n",
    "with open(os.path.abspath('..')+\"\\Data\\_turkce-stop-words.txt\",encoding=\"utf8\") as file:\n",
    "    for line in file:\n",
    "        line=line.lower()\n",
    "        turkish_stop_words.append(line.strip())\n"
   ]
  },
  {
   "cell_type": "markdown",
   "id": "80b14335-64a0-4706-8da3-f7fd7d71ff17",
   "metadata": {
    "tags": []
   },
   "source": [
    "## DETERMINE THE LANGUAGE OF THE TEXT"
   ]
  },
  {
   "cell_type": "code",
   "execution_count": 32,
   "id": "84fe50ce-b7e4-4511-8cef-259260608e64",
   "metadata": {
    "tags": []
   },
   "outputs": [
    {
     "data": {
      "text/html": [
       "<div>\n",
       "<style scoped>\n",
       "    .dataframe tbody tr th:only-of-type {\n",
       "        vertical-align: middle;\n",
       "    }\n",
       "\n",
       "    .dataframe tbody tr th {\n",
       "        vertical-align: top;\n",
       "    }\n",
       "\n",
       "    .dataframe thead th {\n",
       "        text-align: right;\n",
       "    }\n",
       "</style>\n",
       "<table border=\"1\" class=\"dataframe\">\n",
       "  <thead>\n",
       "    <tr style=\"text-align: right;\">\n",
       "      <th></th>\n",
       "      <th>PozisyonAdi</th>\n",
       "      <th>metin</th>\n",
       "      <th>Dil</th>\n",
       "    </tr>\n",
       "  </thead>\n",
       "  <tbody>\n",
       "    <tr>\n",
       "      <th>0</th>\n",
       "      <td>yazılım uzmanı</td>\n",
       "      <td>dünyada 150 ülkede, 27 farklı dil ile yaklaşı...</td>\n",
       "      <td>Türkçe</td>\n",
       "    </tr>\n",
       "    <tr>\n",
       "      <th>1</th>\n",
       "      <td>yazılım uzmanı</td>\n",
       "      <td>genel ni̇teli̇kler BLLTX üniversitelerin, bil...</td>\n",
       "      <td>Türkçe</td>\n",
       "    </tr>\n",
       "    <tr>\n",
       "      <th>2</th>\n",
       "      <td>oyun yazılım uzmanı</td>\n",
       "      <td>oyun geliştirmeyi ve oynamayı hayat felsefesi...</td>\n",
       "      <td>Türkçe</td>\n",
       "    </tr>\n",
       "    <tr>\n",
       "      <th>3</th>\n",
       "      <td>yazılım uzmanı</td>\n",
       "      <td>şirketimizde görevlendirilmek üzere aşağıdaki...</td>\n",
       "      <td>Türkçe</td>\n",
       "    </tr>\n",
       "    <tr>\n",
       "      <th>4</th>\n",
       "      <td>yazılım uzmanı</td>\n",
       "      <td>BLLTX yazılım geliştirme projelerinde aktif y...</td>\n",
       "      <td>Türkçe</td>\n",
       "    </tr>\n",
       "  </tbody>\n",
       "</table>\n",
       "</div>"
      ],
      "text/plain": [
       "           PozisyonAdi                                              metin  \\\n",
       "0       yazılım uzmanı   dünyada 150 ülkede, 27 farklı dil ile yaklaşı...   \n",
       "1       yazılım uzmanı   genel ni̇teli̇kler BLLTX üniversitelerin, bil...   \n",
       "2  oyun yazılım uzmanı   oyun geliştirmeyi ve oynamayı hayat felsefesi...   \n",
       "3       yazılım uzmanı   şirketimizde görevlendirilmek üzere aşağıdaki...   \n",
       "4       yazılım uzmanı   BLLTX yazılım geliştirme projelerinde aktif y...   \n",
       "\n",
       "      Dil  \n",
       "0  Türkçe  \n",
       "1  Türkçe  \n",
       "2  Türkçe  \n",
       "3  Türkçe  \n",
       "4  Türkçe  "
      ]
     },
     "execution_count": 32,
     "metadata": {},
     "output_type": "execute_result"
    }
   ],
   "source": [
    "clean_data_v1['Dil']=clean_data_v1[\"metin\"].apply(lambda text: \"Türkçe\" if \" the \" not  in  text else (\"İngilizce/Türkçe\"  if \" ve \" in text else \"İngilizce\"))\n",
    "clean_data_v1.head()"
   ]
  },
  {
   "cell_type": "code",
   "execution_count": 33,
   "id": "fb7b0d20-333e-4513-a331-b5da41ddf7a8",
   "metadata": {},
   "outputs": [
    {
     "data": {
      "text/plain": [
       "Türkçe              1086\n",
       "İngilizce             34\n",
       "İngilizce/Türkçe       3\n",
       "Name: Dil, dtype: int64"
      ]
     },
     "execution_count": 33,
     "metadata": {},
     "output_type": "execute_result"
    }
   ],
   "source": [
    "clean_data_v1[\"Dil\"] .value_counts()"
   ]
  },
  {
   "cell_type": "markdown",
   "id": "13b70dc4-a798-4f67-b9d6-63190883043c",
   "metadata": {
    "tags": []
   },
   "source": [
    "## CLEAN \"İngilizce/Türkçe\" TEXT"
   ]
  },
  {
   "cell_type": "code",
   "execution_count": 34,
   "id": "ff16f028-a8c7-4aa0-8bfa-2daf55402ab5",
   "metadata": {},
   "outputs": [
    {
     "data": {
      "text/plain": [
       "Türkçe       1086\n",
       "İngilizce      34\n",
       "Name: Dil, dtype: int64"
      ]
     },
     "execution_count": 34,
     "metadata": {},
     "output_type": "execute_result"
    }
   ],
   "source": [
    "clean_data_v1=clean_data_v1.drop(clean_data_v1.loc[(clean_data_v1['Dil'] == \"İngilizce/Türkçe\")].index)\n",
    "clean_data_v1[\"Dil\"].value_counts()"
   ]
  },
  {
   "cell_type": "markdown",
   "id": "73707053-5e6f-4e55-a2b3-c4f8867376fd",
   "metadata": {},
   "source": [
    "## CLEAN STOP WORDS"
   ]
  },
  {
   "cell_type": "code",
   "execution_count": 35,
   "id": "5caeab2e-0181-4a21-84d3-0cc30dfe6617",
   "metadata": {},
   "outputs": [],
   "source": [
    "for stop_word in turkish_stop_words:\n",
    "    clean_data_v1.loc[(clean_data_v1['Dil'] == \"Türkçe\",\"metin\")] = clean_data_v1[\"metin\"].apply(lambda text: text.replace(\" \"+stop_word+\" \",\" \"))  \n",
    "    \n",
    "for stop_word in english_stop_words:\n",
    "    clean_data_v1.loc[(clean_data_v1['Dil'] == \"İngilizce\",\"metin\")] = clean_data_v1[\"metin\"].apply(lambda text: text.replace(\" \"+stop_word+\" \",\" \"))  "
   ]
  },
  {
   "cell_type": "code",
   "execution_count": 36,
   "id": "1f9a50f6-d297-4223-8c8d-26c20dd10932",
   "metadata": {
    "tags": []
   },
   "outputs": [
    {
     "data": {
      "text/html": [
       "<div>\n",
       "<style scoped>\n",
       "    .dataframe tbody tr th:only-of-type {\n",
       "        vertical-align: middle;\n",
       "    }\n",
       "\n",
       "    .dataframe tbody tr th {\n",
       "        vertical-align: top;\n",
       "    }\n",
       "\n",
       "    .dataframe thead th {\n",
       "        text-align: right;\n",
       "    }\n",
       "</style>\n",
       "<table border=\"1\" class=\"dataframe\">\n",
       "  <thead>\n",
       "    <tr style=\"text-align: right;\">\n",
       "      <th></th>\n",
       "      <th>PozisyonAdi</th>\n",
       "      <th>metin</th>\n",
       "      <th>Dil</th>\n",
       "    </tr>\n",
       "  </thead>\n",
       "  <tbody>\n",
       "    <tr>\n",
       "      <th>0</th>\n",
       "      <td>yazılım uzmanı</td>\n",
       "      <td>dünyada 150 ülkede, 27 farklı dil yaklaşık 60...</td>\n",
       "      <td>Türkçe</td>\n",
       "    </tr>\n",
       "    <tr>\n",
       "      <th>1</th>\n",
       "      <td>yazılım uzmanı</td>\n",
       "      <td>genel ni̇teli̇kler BLLTX üniversitelerin, bil...</td>\n",
       "      <td>Türkçe</td>\n",
       "    </tr>\n",
       "    <tr>\n",
       "      <th>2</th>\n",
       "      <td>oyun yazılım uzmanı</td>\n",
       "      <td>oyun geliştirmeyi oynamayı hayat felsefesine ...</td>\n",
       "      <td>Türkçe</td>\n",
       "    </tr>\n",
       "    <tr>\n",
       "      <th>3</th>\n",
       "      <td>yazılım uzmanı</td>\n",
       "      <td>şirketimizde görevlendirilmek aşağıdaki nitel...</td>\n",
       "      <td>Türkçe</td>\n",
       "    </tr>\n",
       "    <tr>\n",
       "      <th>4</th>\n",
       "      <td>yazılım uzmanı</td>\n",
       "      <td>BLLTX yazılım geliştirme projelerinde aktif y...</td>\n",
       "      <td>Türkçe</td>\n",
       "    </tr>\n",
       "  </tbody>\n",
       "</table>\n",
       "</div>"
      ],
      "text/plain": [
       "           PozisyonAdi                                              metin  \\\n",
       "0       yazılım uzmanı   dünyada 150 ülkede, 27 farklı dil yaklaşık 60...   \n",
       "1       yazılım uzmanı   genel ni̇teli̇kler BLLTX üniversitelerin, bil...   \n",
       "2  oyun yazılım uzmanı   oyun geliştirmeyi oynamayı hayat felsefesine ...   \n",
       "3       yazılım uzmanı   şirketimizde görevlendirilmek aşağıdaki nitel...   \n",
       "4       yazılım uzmanı   BLLTX yazılım geliştirme projelerinde aktif y...   \n",
       "\n",
       "      Dil  \n",
       "0  Türkçe  \n",
       "1  Türkçe  \n",
       "2  Türkçe  \n",
       "3  Türkçe  \n",
       "4  Türkçe  "
      ]
     },
     "execution_count": 36,
     "metadata": {},
     "output_type": "execute_result"
    }
   ],
   "source": [
    "clean_data_v1.head()"
   ]
  },
  {
   "cell_type": "code",
   "execution_count": 37,
   "id": "c83d298b-13c9-4bd5-91ee-2f4b3dcedb90",
   "metadata": {},
   "outputs": [],
   "source": [
    "clean_data_v1.to_csv('yazilim_uzmani_data_v1.csv') "
   ]
  },
  {
   "cell_type": "markdown",
   "id": "0c555563-a39a-437d-8ba7-2d7a24dec5d2",
   "metadata": {
    "tags": []
   },
   "source": [
    "# PARSING / STEP 5"
   ]
  },
  {
   "cell_type": "markdown",
   "id": "061a5bc8-8f2c-41d4-9924-578bf61e052f",
   "metadata": {},
   "source": [
    "Metinleri madde işareti ve noktaya göre cümlelere ayırma işlemi"
   ]
  },
  {
   "cell_type": "code",
   "execution_count": 38,
   "id": "e84deecd-b695-41fe-8449-42bf8680641b",
   "metadata": {},
   "outputs": [],
   "source": [
    "clean_data_v2 = pd.read_csv(\"yazilim_uzmani_data_v1.csv\")"
   ]
  },
  {
   "cell_type": "code",
   "execution_count": 39,
   "id": "38c0bfb0-48e7-4b08-b2b7-e8ee0f53c8ec",
   "metadata": {},
   "outputs": [],
   "source": [
    "clean_data_v2 = clean_data_v2.drop(\"Unnamed: 0\",axis=1)"
   ]
  },
  {
   "cell_type": "code",
   "execution_count": 40,
   "id": "2cf67cb2-01c1-4d36-8afe-88936c6259d5",
   "metadata": {
    "tags": []
   },
   "outputs": [
    {
     "data": {
      "text/html": [
       "<div>\n",
       "<style scoped>\n",
       "    .dataframe tbody tr th:only-of-type {\n",
       "        vertical-align: middle;\n",
       "    }\n",
       "\n",
       "    .dataframe tbody tr th {\n",
       "        vertical-align: top;\n",
       "    }\n",
       "\n",
       "    .dataframe thead th {\n",
       "        text-align: right;\n",
       "    }\n",
       "</style>\n",
       "<table border=\"1\" class=\"dataframe\">\n",
       "  <thead>\n",
       "    <tr style=\"text-align: right;\">\n",
       "      <th></th>\n",
       "      <th>PozisyonAdi</th>\n",
       "      <th>metin</th>\n",
       "      <th>Dil</th>\n",
       "    </tr>\n",
       "  </thead>\n",
       "  <tbody>\n",
       "    <tr>\n",
       "      <th>0</th>\n",
       "      <td>yazılım uzmanı</td>\n",
       "      <td>dünyada 150 ülkede, 27 farklı dil yaklaşık 60...</td>\n",
       "      <td>Türkçe</td>\n",
       "    </tr>\n",
       "    <tr>\n",
       "      <th>1</th>\n",
       "      <td>yazılım uzmanı</td>\n",
       "      <td>genel ni̇teli̇kler BLLTX üniversitelerin, bil...</td>\n",
       "      <td>Türkçe</td>\n",
       "    </tr>\n",
       "    <tr>\n",
       "      <th>2</th>\n",
       "      <td>oyun yazılım uzmanı</td>\n",
       "      <td>oyun geliştirmeyi oynamayı hayat felsefesine ...</td>\n",
       "      <td>Türkçe</td>\n",
       "    </tr>\n",
       "    <tr>\n",
       "      <th>3</th>\n",
       "      <td>yazılım uzmanı</td>\n",
       "      <td>şirketimizde görevlendirilmek aşağıdaki nitel...</td>\n",
       "      <td>Türkçe</td>\n",
       "    </tr>\n",
       "    <tr>\n",
       "      <th>4</th>\n",
       "      <td>yazılım uzmanı</td>\n",
       "      <td>BLLTX yazılım geliştirme projelerinde aktif y...</td>\n",
       "      <td>Türkçe</td>\n",
       "    </tr>\n",
       "  </tbody>\n",
       "</table>\n",
       "</div>"
      ],
      "text/plain": [
       "           PozisyonAdi                                              metin  \\\n",
       "0       yazılım uzmanı   dünyada 150 ülkede, 27 farklı dil yaklaşık 60...   \n",
       "1       yazılım uzmanı   genel ni̇teli̇kler BLLTX üniversitelerin, bil...   \n",
       "2  oyun yazılım uzmanı   oyun geliştirmeyi oynamayı hayat felsefesine ...   \n",
       "3       yazılım uzmanı   şirketimizde görevlendirilmek aşağıdaki nitel...   \n",
       "4       yazılım uzmanı   BLLTX yazılım geliştirme projelerinde aktif y...   \n",
       "\n",
       "      Dil  \n",
       "0  Türkçe  \n",
       "1  Türkçe  \n",
       "2  Türkçe  \n",
       "3  Türkçe  \n",
       "4  Türkçe  "
      ]
     },
     "execution_count": 40,
     "metadata": {},
     "output_type": "execute_result"
    }
   ],
   "source": [
    "clean_data_v2.head()"
   ]
  },
  {
   "cell_type": "code",
   "execution_count": 41,
   "id": "06434c92-dd68-407f-a06a-7a0e26c98de7",
   "metadata": {},
   "outputs": [
    {
     "data": {
      "text/plain": [
       "' yazılım ekibimizde görevlendirilmek üzere, ekip çalışmasına yatkın, yeni teknolojilere gelişmeye açık, analitik sorgulama becerisi yüksek yoğun iş temposuna ayak uydurabilecek takım arkadaşları aramaktayız. adaylarda aranan özellikler: - üniversitelerin bilgisayar mühendisliği benzeri 4 yıllık bölümlerinden mezun, - mezuniyet sonrası yazılım uzmanı minimum 4 yıllık iş deneyimi olan, - veritabanı sistemlerine hakim iyi derecede  SPCL261SPCL   SPCL113SPCL  dili bilen , -  SPCL44SPCL ,  SPCL36SPCL   SPCL35SPCL üzerinde tecrübe sahibi, - web tabanlı uygulama geliştirme konusunda deneyimli ( SPCL20SPCL ,  SPCL24SPCL  script), - katmanlı uygulama geliştirme mimarilerinde yazılım geliştirme yapmış, - i̇yi derecede i̇ngilizce bilen. - müşteri ihtiyaçlarını anlayarak yazılım tasarımını oluşturabilecek sorumluluk üstlenebilecek, - erkek adayların askerliğini tamamlamış 2 yıl tecilli gerekmektedir i̇ş tanimi firmamızın yürüttüğü e-devlet projelerinde müşteriye özel çözüm geliştirme projelerinde yazılım geliştirme uzmanı görevlendirilecektir. adayın yetkinliklerine paralel olarak, kişi iş süreç analizi, yazılım testi, yazılım dokümantasyonu alanlarında görevler yapabilir. '"
      ]
     },
     "execution_count": 41,
     "metadata": {},
     "output_type": "execute_result"
    }
   ],
   "source": [
    "clean_data_v2[\"metin\"][25]"
   ]
  },
  {
   "cell_type": "markdown",
   "id": "ab2df683-f6a2-4200-8235-7b295ae8ad7c",
   "metadata": {},
   "source": [
    "## PARSING TEXT ACCORDING TO \"BLLTX\" AND \".\""
   ]
  },
  {
   "cell_type": "code",
   "execution_count": 42,
   "id": "31b23d17-e2ba-4d5c-8310-7856acd0cb98",
   "metadata": {
    "tags": []
   },
   "outputs": [],
   "source": [
    "clean_data_v2[\"metin\"]=clean_data_v2[\"metin\"].apply(lambda text: re.split(\"BLLTX|\\.\",text ))"
   ]
  },
  {
   "cell_type": "code",
   "execution_count": 43,
   "id": "6123d78a-033b-4434-b56b-fd28f21f4431",
   "metadata": {
    "tags": []
   },
   "outputs": [
    {
     "data": {
      "text/plain": [
       "[' innovance, finans sektörüne yönelik yazılım, analiz proje yönetimi konularında danışmanlık hizmeti vermektedir',\n",
       " ' danışmanlığını yapmakta olduğumuz banka adına yürüttüğümüz projelerde görevlendirmek \"react developer\" arayışımız bulunmaktadır',\n",
       " ' ',\n",
       " ' üniversitelerin 4 yıllık bölümlerinden mezun (bilgisayar, matematik, endüstri, i̇şletme mühendislikleri yönetim bilişim sistemleri (mis) i̇statistik) react',\n",
       " \"js, react native projelerinde 2 yıl görev almış,  SPCL24SPCL script'e hakim ,  SPCL13SPCL  geliştirme alakalı güncel teknolojileri takip eden, typescript , es6+,  SPCL20SPCL 5,css3 konularında deneyimli, git akışlarında kod geliştirme tecrübesi olan, i̇yi derecede i̇ngilizce bilgisine sahip\",\n",
       " ' erkek adaylar askerliğini tamamlamış minimum 2 yıl tecilli takım arkadaşları arıyoruz',\n",
       " ' ']"
      ]
     },
     "execution_count": 43,
     "metadata": {},
     "output_type": "execute_result"
    }
   ],
   "source": [
    "clean_data_v2[\"metin\"][30]"
   ]
  },
  {
   "cell_type": "markdown",
   "id": "25814395-d9f7-40c8-a7e0-2352f8eee0fc",
   "metadata": {
    "tags": []
   },
   "source": [
    "## CREATE SENTENCE DF FOR PARSING"
   ]
  },
  {
   "cell_type": "code",
   "execution_count": 44,
   "id": "f47b2b31-7466-42a8-9efe-cce482117823",
   "metadata": {},
   "outputs": [],
   "source": [
    "sentences = pd.DataFrame(columns=['PostId', 'Sentence', 'Language'])"
   ]
  },
  {
   "cell_type": "code",
   "execution_count": 45,
   "id": "3427de50-895f-48d3-beaf-2beebd7aa802",
   "metadata": {},
   "outputs": [
    {
     "data": {
      "text/html": [
       "<div>\n",
       "<style scoped>\n",
       "    .dataframe tbody tr th:only-of-type {\n",
       "        vertical-align: middle;\n",
       "    }\n",
       "\n",
       "    .dataframe tbody tr th {\n",
       "        vertical-align: top;\n",
       "    }\n",
       "\n",
       "    .dataframe thead th {\n",
       "        text-align: right;\n",
       "    }\n",
       "</style>\n",
       "<table border=\"1\" class=\"dataframe\">\n",
       "  <thead>\n",
       "    <tr style=\"text-align: right;\">\n",
       "      <th></th>\n",
       "      <th>PostId</th>\n",
       "      <th>Sentence</th>\n",
       "      <th>Language</th>\n",
       "    </tr>\n",
       "  </thead>\n",
       "  <tbody>\n",
       "    <tr>\n",
       "      <th>0</th>\n",
       "      <td>Post0</td>\n",
       "      <td>dünyada 150 ülkede, 27 farklı dil yaklaşık 60</td>\n",
       "      <td>Türkçe</td>\n",
       "    </tr>\n",
       "    <tr>\n",
       "      <th>1</th>\n",
       "      <td>Post0</td>\n",
       "      <td>000 firma kullanılan erp yazılımı SPCL38SPCL b...</td>\n",
       "      <td>Türkçe</td>\n",
       "    </tr>\n",
       "    <tr>\n",
       "      <th>2</th>\n",
       "      <td>Post0</td>\n",
       "      <td></td>\n",
       "      <td>Türkçe</td>\n",
       "    </tr>\n",
       "    <tr>\n",
       "      <th>3</th>\n",
       "      <td>Post0</td>\n",
       "      <td>üniversitelerin lisans bölümlerinden mezun</td>\n",
       "      <td>Türkçe</td>\n",
       "    </tr>\n",
       "    <tr>\n",
       "      <th>4</th>\n",
       "      <td>Post0</td>\n",
       "      <td>erp pojelerinde (test uzmanı olarak) 2 yıl te...</td>\n",
       "      <td>Türkçe</td>\n",
       "    </tr>\n",
       "  </tbody>\n",
       "</table>\n",
       "</div>"
      ],
      "text/plain": [
       "  PostId                                           Sentence Language\n",
       "0  Post0      dünyada 150 ülkede, 27 farklı dil yaklaşık 60   Türkçe\n",
       "1  Post0  000 firma kullanılan erp yazılımı SPCL38SPCL b...   Türkçe\n",
       "2  Post0                                                      Türkçe\n",
       "3  Post0        üniversitelerin lisans bölümlerinden mezun    Türkçe\n",
       "4  Post0   erp pojelerinde (test uzmanı olarak) 2 yıl te...   Türkçe"
      ]
     },
     "execution_count": 45,
     "metadata": {},
     "output_type": "execute_result"
    }
   ],
   "source": [
    "for i in range(len(clean_data_v2)):\n",
    "    for j in range (len(clean_data_v2[\"metin\"][i])):\n",
    "        sentences.loc[len(sentences.index)] = [\"Post\"+str(i), clean_data_v2[\"metin\"][i][j], clean_data_v2[\"Dil\"][i]] \n",
    "\n",
    "sentences.head()    "
   ]
  },
  {
   "cell_type": "code",
   "execution_count": 46,
   "id": "a428a9a6-c4ad-49bd-94bf-234f2363ae47",
   "metadata": {},
   "outputs": [],
   "source": [
    "sentences.to_csv(\"yazilim_uzmani_sentences_v1.csv\")  "
   ]
  },
  {
   "cell_type": "code",
   "execution_count": 47,
   "id": "fc736b50-bb32-451e-974b-85cba3719739",
   "metadata": {},
   "outputs": [
    {
     "data": {
      "text/plain": [
       "16067"
      ]
     },
     "execution_count": 47,
     "metadata": {},
     "output_type": "execute_result"
    }
   ],
   "source": [
    "len(sentences)"
   ]
  },
  {
   "cell_type": "markdown",
   "id": "99f7ccf4-5843-40a0-82de-c71cd9099cc3",
   "metadata": {
    "tags": []
   },
   "source": [
    "# CLEAN NEW SENTENCES  DF / STEP 6"
   ]
  },
  {
   "cell_type": "markdown",
   "id": "67d54fcc-0cc1-490d-927c-bc9373dbeaab",
   "metadata": {},
   "source": [
    "Noktalama işaretleri, sayılar, fazla boşluklar ve boş satırların temizlenmesi"
   ]
  },
  {
   "cell_type": "markdown",
   "id": "584996b1-20cc-4227-82c5-774022679fe1",
   "metadata": {
    "tags": []
   },
   "source": [
    "## FUNCTION TO CLEAN NUMBERS WITH CONSIDERING MASKING"
   ]
  },
  {
   "cell_type": "code",
   "execution_count": 48,
   "id": "ba9edec0-7054-4502-8ae5-e9573014a670",
   "metadata": {},
   "outputs": [
    {
     "data": {
      "text/plain": [
       "' i̇ş tanimi '"
      ]
     },
     "execution_count": 48,
     "metadata": {},
     "output_type": "execute_result"
    }
   ],
   "source": [
    "sentences[\"Sentence\"][145]"
   ]
  },
  {
   "cell_type": "code",
   "execution_count": 49,
   "id": "30297a7c-ef22-4688-9835-8ebfd6989269",
   "metadata": {},
   "outputs": [],
   "source": [
    "def clean_numbers_without_mask(text):\n",
    "    clean = re.compile('[0-9]+\\\\b(?!SPCL\\\\b)+')\n",
    "    return re.sub(clean, ' ', str(text))\n",
    "#Maskeler hariç tüm sayıların temizlenmesi"
   ]
  },
  {
   "cell_type": "code",
   "execution_count": 50,
   "id": "20539f2c-1a5d-4ae8-b49a-58598c57d96e",
   "metadata": {
    "tags": []
   },
   "outputs": [
    {
     "data": {
      "text/html": [
       "<div>\n",
       "<style scoped>\n",
       "    .dataframe tbody tr th:only-of-type {\n",
       "        vertical-align: middle;\n",
       "    }\n",
       "\n",
       "    .dataframe tbody tr th {\n",
       "        vertical-align: top;\n",
       "    }\n",
       "\n",
       "    .dataframe thead th {\n",
       "        text-align: right;\n",
       "    }\n",
       "</style>\n",
       "<table border=\"1\" class=\"dataframe\">\n",
       "  <thead>\n",
       "    <tr style=\"text-align: right;\">\n",
       "      <th></th>\n",
       "      <th>PostId</th>\n",
       "      <th>Sentence</th>\n",
       "      <th>Language</th>\n",
       "    </tr>\n",
       "  </thead>\n",
       "  <tbody>\n",
       "    <tr>\n",
       "      <th>0</th>\n",
       "      <td>Post0</td>\n",
       "      <td>dünyada   ülkede,   farklı dil yaklaşık</td>\n",
       "      <td>Türkçe</td>\n",
       "    </tr>\n",
       "    <tr>\n",
       "      <th>1</th>\n",
       "      <td>Post0</td>\n",
       "      <td>firma kullanılan erp yazılımı SPCL38SPCL bus...</td>\n",
       "      <td>Türkçe</td>\n",
       "    </tr>\n",
       "    <tr>\n",
       "      <th>2</th>\n",
       "      <td>Post0</td>\n",
       "      <td></td>\n",
       "      <td>Türkçe</td>\n",
       "    </tr>\n",
       "    <tr>\n",
       "      <th>3</th>\n",
       "      <td>Post0</td>\n",
       "      <td>üniversitelerin lisans bölümlerinden mezun</td>\n",
       "      <td>Türkçe</td>\n",
       "    </tr>\n",
       "    <tr>\n",
       "      <th>4</th>\n",
       "      <td>Post0</td>\n",
       "      <td>erp pojelerinde (test uzmanı olarak)   yıl te...</td>\n",
       "      <td>Türkçe</td>\n",
       "    </tr>\n",
       "  </tbody>\n",
       "</table>\n",
       "</div>"
      ],
      "text/plain": [
       "  PostId                                           Sentence Language\n",
       "0  Post0          dünyada   ülkede,   farklı dil yaklaşık     Türkçe\n",
       "1  Post0    firma kullanılan erp yazılımı SPCL38SPCL bus...   Türkçe\n",
       "2  Post0                                                      Türkçe\n",
       "3  Post0        üniversitelerin lisans bölümlerinden mezun    Türkçe\n",
       "4  Post0   erp pojelerinde (test uzmanı olarak)   yıl te...   Türkçe"
      ]
     },
     "execution_count": 50,
     "metadata": {},
     "output_type": "execute_result"
    }
   ],
   "source": [
    "sentences[\"Sentence\"]=sentences['Sentence'].apply(lambda text : clean_numbers_without_mask(text))\n",
    "sentences.head()"
   ]
  },
  {
   "cell_type": "code",
   "execution_count": 51,
   "id": "b2e77d49-1e93-40e3-bd96-ad0f3bf41735",
   "metadata": {},
   "outputs": [
    {
     "data": {
      "text/plain": [
       "' i̇ş tanimi '"
      ]
     },
     "execution_count": 51,
     "metadata": {},
     "output_type": "execute_result"
    }
   ],
   "source": [
    "sentences[\"Sentence\"][145]"
   ]
  },
  {
   "cell_type": "markdown",
   "id": "a07afe8a-2c03-43e0-ad8f-f978cd469efc",
   "metadata": {
    "tags": []
   },
   "source": [
    "## FUNCTION TO CLEAN PUNITIONS (Without \",\")"
   ]
  },
  {
   "cell_type": "code",
   "execution_count": 52,
   "id": "b728bb83-832d-4a9d-bf04-4530f939f393",
   "metadata": {},
   "outputs": [],
   "source": [
    "def clean_punitions(text):\n",
    "    clean = re.compile('[\\/#!$%\\^&\\*\\?;:{}=\\-_`~()]|’[^\\s]+|\\'[^\\s]+|\\’[^\\s]+|’\\s[^\\s]+')\n",
    "    return re.sub(clean, ' ', str(text))\n",
    "#' işaretlerinden sonra ki ek de temizkendi. Öğreneğin :  2003’ te türkiye'nin ilk savunma yazılımı i̇hracatını yaptık"
   ]
  },
  {
   "cell_type": "code",
   "execution_count": 53,
   "id": "b94baa03-06bd-48a5-9d5a-ef1ecbf81d2c",
   "metadata": {},
   "outputs": [
    {
     "data": {
      "text/html": [
       "<div>\n",
       "<style scoped>\n",
       "    .dataframe tbody tr th:only-of-type {\n",
       "        vertical-align: middle;\n",
       "    }\n",
       "\n",
       "    .dataframe tbody tr th {\n",
       "        vertical-align: top;\n",
       "    }\n",
       "\n",
       "    .dataframe thead th {\n",
       "        text-align: right;\n",
       "    }\n",
       "</style>\n",
       "<table border=\"1\" class=\"dataframe\">\n",
       "  <thead>\n",
       "    <tr style=\"text-align: right;\">\n",
       "      <th></th>\n",
       "      <th>PostId</th>\n",
       "      <th>Sentence</th>\n",
       "      <th>Language</th>\n",
       "    </tr>\n",
       "  </thead>\n",
       "  <tbody>\n",
       "    <tr>\n",
       "      <th>0</th>\n",
       "      <td>Post0</td>\n",
       "      <td>dünyada   ülkede,   farklı dil yaklaşık</td>\n",
       "      <td>Türkçe</td>\n",
       "    </tr>\n",
       "    <tr>\n",
       "      <th>1</th>\n",
       "      <td>Post0</td>\n",
       "      <td>firma kullanılan erp yazılımı SPCL38SPCL bus...</td>\n",
       "      <td>Türkçe</td>\n",
       "    </tr>\n",
       "    <tr>\n",
       "      <th>2</th>\n",
       "      <td>Post0</td>\n",
       "      <td></td>\n",
       "      <td>Türkçe</td>\n",
       "    </tr>\n",
       "    <tr>\n",
       "      <th>3</th>\n",
       "      <td>Post0</td>\n",
       "      <td>üniversitelerin lisans bölümlerinden mezun</td>\n",
       "      <td>Türkçe</td>\n",
       "    </tr>\n",
       "    <tr>\n",
       "      <th>4</th>\n",
       "      <td>Post0</td>\n",
       "      <td>erp pojelerinde  test uzmanı olarak    yıl te...</td>\n",
       "      <td>Türkçe</td>\n",
       "    </tr>\n",
       "  </tbody>\n",
       "</table>\n",
       "</div>"
      ],
      "text/plain": [
       "  PostId                                           Sentence Language\n",
       "0  Post0          dünyada   ülkede,   farklı dil yaklaşık     Türkçe\n",
       "1  Post0    firma kullanılan erp yazılımı SPCL38SPCL bus...   Türkçe\n",
       "2  Post0                                                      Türkçe\n",
       "3  Post0        üniversitelerin lisans bölümlerinden mezun    Türkçe\n",
       "4  Post0   erp pojelerinde  test uzmanı olarak    yıl te...   Türkçe"
      ]
     },
     "execution_count": 53,
     "metadata": {},
     "output_type": "execute_result"
    }
   ],
   "source": [
    "sentences[\"Sentence\"]=sentences['Sentence'].apply(lambda text : clean_punitions(text))\n",
    "sentences.head()"
   ]
  },
  {
   "cell_type": "code",
   "execution_count": 54,
   "id": "4ce74717-1d56-4c96-b692-e540b4fd5cab",
   "metadata": {},
   "outputs": [
    {
     "data": {
      "text/plain": [
       "' i̇ş tanimi '"
      ]
     },
     "execution_count": 54,
     "metadata": {},
     "output_type": "execute_result"
    }
   ],
   "source": [
    "sentences[\"Sentence\"][145]"
   ]
  },
  {
   "cell_type": "markdown",
   "id": "490862b9-dbdd-4fb0-99e8-bf31f7d5b354",
   "metadata": {
    "tags": []
   },
   "source": [
    "## CLEANING EXTRA SPACES AND NEW LINES"
   ]
  },
  {
   "cell_type": "code",
   "execution_count": 55,
   "id": "daa5d42f-b224-4db2-be32-e55db1db2f90",
   "metadata": {},
   "outputs": [],
   "source": [
    "sentences[\"Sentence\"]=sentences[\"Sentence\"].replace(to_replace=[\"\\n\"],value=\" \",regex=True,inplace=False)\n",
    "sentences[\"Sentence\"] = sentences[\"Sentence\"].apply(lambda text: text.strip())\n",
    "sentences[\"Sentence\"]=sentences['Sentence'].apply(lambda text : re.sub(' +', ' ', text))"
   ]
  },
  {
   "cell_type": "code",
   "execution_count": 56,
   "id": "ff60990f-140a-4f28-99ef-6979904623bf",
   "metadata": {},
   "outputs": [
    {
     "data": {
      "text/plain": [
       "'i̇ş tanimi'"
      ]
     },
     "execution_count": 56,
     "metadata": {},
     "output_type": "execute_result"
    }
   ],
   "source": [
    "sentences[\"Sentence\"][145]"
   ]
  },
  {
   "cell_type": "markdown",
   "id": "de62a03c-12f9-4997-83d3-51d8ebd3b809",
   "metadata": {
    "tags": []
   },
   "source": [
    "## CLEANING EMPTY LINES"
   ]
  },
  {
   "cell_type": "code",
   "execution_count": 57,
   "id": "c88dce12-57f9-47ae-a467-fee3b626c253",
   "metadata": {},
   "outputs": [
    {
     "data": {
      "text/plain": [
       "16067"
      ]
     },
     "execution_count": 57,
     "metadata": {},
     "output_type": "execute_result"
    }
   ],
   "source": [
    "len(sentences)"
   ]
  },
  {
   "cell_type": "code",
   "execution_count": 58,
   "id": "23de53f1-36ea-43c5-94ff-ce7aa9da3f07",
   "metadata": {
    "tags": []
   },
   "outputs": [],
   "source": [
    "sentences.drop(sentences[sentences['Sentence'] == \"nan\" ].index, inplace = True)"
   ]
  },
  {
   "cell_type": "code",
   "execution_count": 59,
   "id": "45374ed4-ba3a-4b29-9601-cf08050490c9",
   "metadata": {},
   "outputs": [
    {
     "data": {
      "text/plain": [
       "16067"
      ]
     },
     "execution_count": 59,
     "metadata": {},
     "output_type": "execute_result"
    }
   ],
   "source": [
    "len(sentences)"
   ]
  },
  {
   "cell_type": "code",
   "execution_count": 60,
   "id": "1a50d781-81f0-46a3-89cd-176c8ccad195",
   "metadata": {},
   "outputs": [],
   "source": [
    "sentences.drop(sentences[sentences['Sentence'] == \"\" ].index, inplace = True)\n",
    "sentences.reset_index(inplace=True)"
   ]
  },
  {
   "cell_type": "code",
   "execution_count": 61,
   "id": "27bd1bc5-ddc5-4829-8da5-cecda7603e96",
   "metadata": {},
   "outputs": [
    {
     "data": {
      "text/plain": [
       "14271"
      ]
     },
     "execution_count": 61,
     "metadata": {},
     "output_type": "execute_result"
    }
   ],
   "source": [
    "len(sentences)"
   ]
  },
  {
   "cell_type": "code",
   "execution_count": 62,
   "id": "43322bd5-d33c-428b-af8d-0f8646670a53",
   "metadata": {},
   "outputs": [],
   "source": [
    "sentences.drop(['index'],axis=1,inplace=True)"
   ]
  },
  {
   "cell_type": "code",
   "execution_count": 63,
   "id": "c68a5699-15b8-43b4-9edc-a3703658cd14",
   "metadata": {
    "tags": []
   },
   "outputs": [
    {
     "data": {
      "text/html": [
       "<div>\n",
       "<style scoped>\n",
       "    .dataframe tbody tr th:only-of-type {\n",
       "        vertical-align: middle;\n",
       "    }\n",
       "\n",
       "    .dataframe tbody tr th {\n",
       "        vertical-align: top;\n",
       "    }\n",
       "\n",
       "    .dataframe thead th {\n",
       "        text-align: right;\n",
       "    }\n",
       "</style>\n",
       "<table border=\"1\" class=\"dataframe\">\n",
       "  <thead>\n",
       "    <tr style=\"text-align: right;\">\n",
       "      <th></th>\n",
       "      <th>PostId</th>\n",
       "      <th>Sentence</th>\n",
       "      <th>Language</th>\n",
       "    </tr>\n",
       "  </thead>\n",
       "  <tbody>\n",
       "    <tr>\n",
       "      <th>0</th>\n",
       "      <td>Post0</td>\n",
       "      <td>dünyada ülkede, farklı dil yaklaşık</td>\n",
       "      <td>Türkçe</td>\n",
       "    </tr>\n",
       "    <tr>\n",
       "      <th>1</th>\n",
       "      <td>Post0</td>\n",
       "      <td>firma kullanılan erp yazılımı SPCL38SPCL busin...</td>\n",
       "      <td>Türkçe</td>\n",
       "    </tr>\n",
       "    <tr>\n",
       "      <th>2</th>\n",
       "      <td>Post0</td>\n",
       "      <td>üniversitelerin lisans bölümlerinden mezun</td>\n",
       "      <td>Türkçe</td>\n",
       "    </tr>\n",
       "    <tr>\n",
       "      <th>3</th>\n",
       "      <td>Post0</td>\n",
       "      <td>erp pojelerinde test uzmanı olarak yıl tecrübeli</td>\n",
       "      <td>Türkçe</td>\n",
       "    </tr>\n",
       "    <tr>\n",
       "      <th>4</th>\n",
       "      <td>Post0</td>\n",
       "      <td>analitik matematiksel düşünme yönü kuvvetli</td>\n",
       "      <td>Türkçe</td>\n",
       "    </tr>\n",
       "    <tr>\n",
       "      <th>5</th>\n",
       "      <td>Post0</td>\n",
       "      <td>detay odaklı çalışan</td>\n",
       "      <td>Türkçe</td>\n",
       "    </tr>\n",
       "    <tr>\n",
       "      <th>6</th>\n",
       "      <td>Post0</td>\n",
       "      <td>raporlama yapan</td>\n",
       "      <td>Türkçe</td>\n",
       "    </tr>\n",
       "    <tr>\n",
       "      <th>7</th>\n",
       "      <td>Post0</td>\n",
       "      <td>ekip çalışmasına uyumlu</td>\n",
       "      <td>Türkçe</td>\n",
       "    </tr>\n",
       "    <tr>\n",
       "      <th>8</th>\n",
       "      <td>Post0</td>\n",
       "      <td>problem çözme yeteneğine sahip</td>\n",
       "      <td>Türkçe</td>\n",
       "    </tr>\n",
       "    <tr>\n",
       "      <th>9</th>\n",
       "      <td>Post0</td>\n",
       "      <td>i̇ş teslim tarihlerine uyan i̇ş tanimi</td>\n",
       "      <td>Türkçe</td>\n",
       "    </tr>\n",
       "  </tbody>\n",
       "</table>\n",
       "</div>"
      ],
      "text/plain": [
       "  PostId                                           Sentence Language\n",
       "0  Post0                dünyada ülkede, farklı dil yaklaşık   Türkçe\n",
       "1  Post0  firma kullanılan erp yazılımı SPCL38SPCL busin...   Türkçe\n",
       "2  Post0         üniversitelerin lisans bölümlerinden mezun   Türkçe\n",
       "3  Post0   erp pojelerinde test uzmanı olarak yıl tecrübeli   Türkçe\n",
       "4  Post0        analitik matematiksel düşünme yönü kuvvetli   Türkçe\n",
       "5  Post0                               detay odaklı çalışan   Türkçe\n",
       "6  Post0                                    raporlama yapan   Türkçe\n",
       "7  Post0                            ekip çalışmasına uyumlu   Türkçe\n",
       "8  Post0                     problem çözme yeteneğine sahip   Türkçe\n",
       "9  Post0             i̇ş teslim tarihlerine uyan i̇ş tanimi   Türkçe"
      ]
     },
     "execution_count": 63,
     "metadata": {},
     "output_type": "execute_result"
    }
   ],
   "source": [
    "sentences.head(10)"
   ]
  },
  {
   "cell_type": "code",
   "execution_count": 64,
   "id": "f1a14400-4256-4d28-8c0a-48cc84749059",
   "metadata": {
    "tags": []
   },
   "outputs": [
    {
     "data": {
      "text/plain": [
       "0                  dünyada ülkede, farklı dil yaklaşık\n",
       "1    firma kullanılan erp yazılımı SPCL38SPCL busin...\n",
       "2           üniversitelerin lisans bölümlerinden mezun\n",
       "3     erp pojelerinde test uzmanı olarak yıl tecrübeli\n",
       "4          analitik matematiksel düşünme yönü kuvvetli\n",
       "5                                 detay odaklı çalışan\n",
       "6                                      raporlama yapan\n",
       "7                              ekip çalışmasına uyumlu\n",
       "8                       problem çözme yeteneğine sahip\n",
       "9               i̇ş teslim tarihlerine uyan i̇ş tanimi\n",
       "Name: Sentence, dtype: object"
      ]
     },
     "execution_count": 64,
     "metadata": {},
     "output_type": "execute_result"
    }
   ],
   "source": [
    "sentences[\"Sentence\"].head(10)"
   ]
  },
  {
   "cell_type": "code",
   "execution_count": 65,
   "id": "f2abf7eb-3417-4f7c-9ef3-6d467b9b861f",
   "metadata": {},
   "outputs": [],
   "source": [
    "sentences.to_csv(\"yazilim_uzmani_sentences_v2.csv\")"
   ]
  }
 ],
 "metadata": {
  "kernelspec": {
   "display_name": "Python 3 (ipykernel)",
   "language": "python",
   "name": "python3"
  },
  "language_info": {
   "codemirror_mode": {
    "name": "ipython",
    "version": 3
   },
   "file_extension": ".py",
   "mimetype": "text/x-python",
   "name": "python",
   "nbconvert_exporter": "python",
   "pygments_lexer": "ipython3",
   "version": "3.9.7"
  }
 },
 "nbformat": 4,
 "nbformat_minor": 5
}
